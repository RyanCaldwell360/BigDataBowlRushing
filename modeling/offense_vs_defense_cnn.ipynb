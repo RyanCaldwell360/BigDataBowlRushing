{
 "cells": [
  {
   "cell_type": "code",
   "execution_count": 1,
   "id": "d157699d",
   "metadata": {},
   "outputs": [],
   "source": [
    "import numpy as np\n",
    "import pandas as pd\n",
    "import matplotlib.pyplot as plt\n",
    "from sklearn.preprocessing import StandardScaler\n",
    "\n",
    "# keras functionality\n",
    "from tensorflow.keras import backend as K\n",
    "from tensorflow.keras.models import Model\n",
    "from tensorflow.keras.optimizers import Adam\n",
    "from tensorflow.keras.utils import to_categorical\n",
    "from tensorflow.keras.callbacks import Callback, EarlyStopping\n",
    "from tensorflow.keras.layers import (Activation, Add, Average, AvgPool1D, AvgPool2D, BatchNormalization, Concatenate, Conv1D, Conv2D,\n",
    "                                     Dense, Dropout, Flatten, Input, Lambda, LayerNormalization, MaxPool1D, MaxPool2D, Reshape)"
   ]
  },
  {
   "cell_type": "markdown",
   "id": "266acd8d",
   "metadata": {},
   "source": [
    "# Read in data"
   ]
  },
  {
   "cell_type": "code",
   "execution_count": 2,
   "id": "f106ba5d",
   "metadata": {},
   "outputs": [],
   "source": [
    "od_feats = np.load('../data/offense_vs_defensive_features.npy')"
   ]
  },
  {
   "cell_type": "code",
   "execution_count": 3,
   "id": "1707021d",
   "metadata": {},
   "outputs": [
    {
     "data": {
      "text/plain": [
       "(31007, 10, 11, 10)"
      ]
     },
     "execution_count": 3,
     "metadata": {},
     "output_type": "execute_result"
    }
   ],
   "source": [
    "od_feats.shape"
   ]
  },
  {
   "cell_type": "code",
   "execution_count": 4,
   "id": "0aee10ca",
   "metadata": {},
   "outputs": [],
   "source": [
    "n_feats = od_feats.shape[3]"
   ]
  },
  {
   "cell_type": "code",
   "execution_count": 5,
   "id": "bbcd1b54",
   "metadata": {},
   "outputs": [],
   "source": [
    "Yards = pd.read_csv('../data/yard_outcomes.csv')"
   ]
  },
  {
   "cell_type": "code",
   "execution_count": 6,
   "id": "8ec86bd6",
   "metadata": {},
   "outputs": [
    {
     "data": {
      "text/html": [
       "<div>\n",
       "<style scoped>\n",
       "    .dataframe tbody tr th:only-of-type {\n",
       "        vertical-align: middle;\n",
       "    }\n",
       "\n",
       "    .dataframe tbody tr th {\n",
       "        vertical-align: top;\n",
       "    }\n",
       "\n",
       "    .dataframe thead th {\n",
       "        text-align: right;\n",
       "    }\n",
       "</style>\n",
       "<table border=\"1\" class=\"dataframe\">\n",
       "  <thead>\n",
       "    <tr style=\"text-align: right;\">\n",
       "      <th></th>\n",
       "      <th>GameId</th>\n",
       "      <th>PlayId</th>\n",
       "      <th>Yards</th>\n",
       "      <th>YardsToTouchdown</th>\n",
       "      <th>YardsToSafety</th>\n",
       "      <th>YardIndex</th>\n",
       "      <th>YardIndexClipped</th>\n",
       "      <th>UnclippedYardIndex</th>\n",
       "    </tr>\n",
       "  </thead>\n",
       "  <tbody>\n",
       "    <tr>\n",
       "      <th>0</th>\n",
       "      <td>2017090700</td>\n",
       "      <td>20170907000118</td>\n",
       "      <td>8</td>\n",
       "      <td>65</td>\n",
       "      <td>35</td>\n",
       "      <td>107</td>\n",
       "      <td>107</td>\n",
       "      <td>107</td>\n",
       "    </tr>\n",
       "    <tr>\n",
       "      <th>1</th>\n",
       "      <td>2017090700</td>\n",
       "      <td>20170907000139</td>\n",
       "      <td>3</td>\n",
       "      <td>57</td>\n",
       "      <td>43</td>\n",
       "      <td>102</td>\n",
       "      <td>102</td>\n",
       "      <td>102</td>\n",
       "    </tr>\n",
       "    <tr>\n",
       "      <th>2</th>\n",
       "      <td>2017090700</td>\n",
       "      <td>20170907000189</td>\n",
       "      <td>5</td>\n",
       "      <td>35</td>\n",
       "      <td>65</td>\n",
       "      <td>104</td>\n",
       "      <td>104</td>\n",
       "      <td>104</td>\n",
       "    </tr>\n",
       "    <tr>\n",
       "      <th>3</th>\n",
       "      <td>2017090700</td>\n",
       "      <td>20170907000345</td>\n",
       "      <td>2</td>\n",
       "      <td>2</td>\n",
       "      <td>98</td>\n",
       "      <td>101</td>\n",
       "      <td>101</td>\n",
       "      <td>101</td>\n",
       "    </tr>\n",
       "    <tr>\n",
       "      <th>4</th>\n",
       "      <td>2017090700</td>\n",
       "      <td>20170907000395</td>\n",
       "      <td>7</td>\n",
       "      <td>75</td>\n",
       "      <td>25</td>\n",
       "      <td>106</td>\n",
       "      <td>106</td>\n",
       "      <td>106</td>\n",
       "    </tr>\n",
       "  </tbody>\n",
       "</table>\n",
       "</div>"
      ],
      "text/plain": [
       "       GameId          PlayId  Yards  YardsToTouchdown  YardsToSafety  \\\n",
       "0  2017090700  20170907000118      8                65             35   \n",
       "1  2017090700  20170907000139      3                57             43   \n",
       "2  2017090700  20170907000189      5                35             65   \n",
       "3  2017090700  20170907000345      2                 2             98   \n",
       "4  2017090700  20170907000395      7                75             25   \n",
       "\n",
       "   YardIndex  YardIndexClipped  UnclippedYardIndex  \n",
       "0        107               107                 107  \n",
       "1        102               102                 102  \n",
       "2        104               104                 104  \n",
       "3        101               101                 101  \n",
       "4        106               106                 106  "
      ]
     },
     "execution_count": 6,
     "metadata": {},
     "output_type": "execute_result"
    }
   ],
   "source": [
    "Yards.head()"
   ]
  },
  {
   "cell_type": "code",
   "execution_count": 7,
   "id": "6aff8df4",
   "metadata": {},
   "outputs": [],
   "source": [
    "min_idx = 71\n",
    "max_idx = 150\n",
    "num_classes = max_idx - min_idx + 1"
   ]
  },
  {
   "cell_type": "code",
   "execution_count": 8,
   "id": "24d2d616",
   "metadata": {},
   "outputs": [],
   "source": [
    "N = Yards.shape[0]\n",
    "Y = np.zeros((N, num_classes))\n",
    "for i in range(N):\n",
    "    index_location = Yards.loc[i, 'YardIndexClipped'] - min_idx\n",
    "    Y[i, index_location] = 1"
   ]
  },
  {
   "cell_type": "markdown",
   "id": "24d072f1",
   "metadata": {},
   "source": [
    "# Standardize Features"
   ]
  },
  {
   "cell_type": "code",
   "execution_count": 9,
   "id": "61455c59",
   "metadata": {},
   "outputs": [],
   "source": [
    "# X = (od_feats - od_feats.mean(axis=0))/(od_feats.std(axis=0))\n",
    "X = od_feats"
   ]
  },
  {
   "cell_type": "markdown",
   "id": "dad98c53",
   "metadata": {},
   "source": [
    "# Split data into train/val/test"
   ]
  },
  {
   "cell_type": "code",
   "execution_count": 10,
   "id": "b0aa59a7",
   "metadata": {},
   "outputs": [
    {
     "data": {
      "text/plain": [
       "(24805, 3101, 3101)"
      ]
     },
     "execution_count": 10,
     "metadata": {},
     "output_type": "execute_result"
    }
   ],
   "source": [
    "N = Yards.shape[0]\n",
    "train_perc = 0.80\n",
    "val_test_perc = 0.50\n",
    "\n",
    "train_N = int(N*train_perc)\n",
    "val_N = int((N-train_N)*val_test_perc)\n",
    "test_N = int(N-train_N-val_N)\n",
    "(train_N, val_N, test_N)"
   ]
  },
  {
   "cell_type": "code",
   "execution_count": 11,
   "id": "bc3bfd28",
   "metadata": {},
   "outputs": [
    {
     "name": "stdout",
     "output_type": "stream",
     "text": [
      "24805 3101 3101\n"
     ]
    }
   ],
   "source": [
    "train_indx = np.random.choice(a=Yards.index, size=train_N, replace=False)\n",
    "\n",
    "remaining_indexes = [x for x in Yards.index if x not in train_indx]\n",
    "val_indx = np.random.choice(a=remaining_indexes, size=val_N, replace=False)\n",
    "\n",
    "test_indx = [x for x in remaining_indexes if x not in val_indx]\n",
    "\n",
    "print(len(train_indx), len(val_indx), len(test_indx))"
   ]
  },
  {
   "cell_type": "code",
   "execution_count": 12,
   "id": "1ffc68b6",
   "metadata": {},
   "outputs": [
    {
     "name": "stdout",
     "output_type": "stream",
     "text": [
      "((24805, 10, 11, 10), (24805, 80)) ((3101, 10, 11, 10), (3101, 80)) ((3101, 10, 11, 10), (3101, 80))\n"
     ]
    }
   ],
   "source": [
    "X_train = X[train_indx, :, :]\n",
    "X_val = X[val_indx, :, :]\n",
    "X_test = X[test_indx, :, :]\n",
    "\n",
    "train_range = Yards.loc[train_indx, ['YardsToTouchdown','YardsToSafety']]\n",
    "val_range = Yards.loc[val_indx, ['YardsToTouchdown','YardsToSafety']]\n",
    "test_range = Yards.loc[test_indx, ['YardsToTouchdown','YardsToSafety']]\n",
    "\n",
    "y_train = Y[train_indx, :]\n",
    "y_val = Y[val_indx, :]\n",
    "y_test = Y[test_indx, :]\n",
    "\n",
    "print((X_train.shape, y_train.shape), (X_val.shape, y_val.shape), (X_test.shape, y_test.shape))"
   ]
  },
  {
   "cell_type": "markdown",
   "id": "397a6e39",
   "metadata": {},
   "source": [
    "# Define Model Architecture"
   ]
  },
  {
   "cell_type": "code",
   "execution_count": 13,
   "id": "0c83f3d1",
   "metadata": {
    "scrolled": false
   },
   "outputs": [],
   "source": [
    "K.clear_session()\n",
    "\n",
    "# input dimension is 10 offensive players x 11 defensive players x n_feats\n",
    "inputs = Input(shape=(10,11,n_feats))\n",
    "\n",
    "x = Conv2D(128, kernel_size=(1,1), strides=(1,1), activation='relu')(inputs)\n",
    "x = Conv2D(160, kernel_size=(1,1), strides=(1,1), activation='relu')(x)\n",
    "x = Conv2D(128, kernel_size=(1,1), strides=(1,1), activation='relu')(x)\n",
    "\n",
    "# pooling is done such that we have aggregated offensive information\n",
    "# over each of the 11 defensive players. This way we have information\n",
    "# about defensive players and how they relate to the RB in our last\n",
    "# block of Convs\n",
    "a = AvgPool2D(pool_size=(10,1))(x)\n",
    "a = Lambda(lambda x: x*0.7)(a)\n",
    "m = MaxPool2D(pool_size=(10,1))(x)\n",
    "m = Lambda(lambda x: x*0.3)(m)\n",
    "\n",
    "x = Add()([a, m])\n",
    "x = Reshape((11,128))(x)\n",
    "\n",
    "x = BatchNormalization()(x)\n",
    "\n",
    "x = Conv1D(160, kernel_size=1, strides=1, activation='relu')(x)\n",
    "x = BatchNormalization()(x)\n",
    "x = Conv1D(96, kernel_size=1, strides=1, activation='relu')(x)\n",
    "x = BatchNormalization()(x)\n",
    "x = Conv1D(96, kernel_size=1, strides=1, activation='relu')(x)\n",
    "x = BatchNormalization()(x)\n",
    "\n",
    "a = AvgPool1D(pool_size=11)(x)\n",
    "a = Lambda(lambda x: x*0.7)(a)\n",
    "m = MaxPool1D(pool_size=11)(x)\n",
    "m = Lambda(lambda x: x*0.3)(m)\n",
    "\n",
    "x = Add()([a,m])\n",
    "x = Flatten()(x)\n",
    "\n",
    "x = Dense(96, activation='relu')(x)\n",
    "x = BatchNormalization()(x)\n",
    "x = Dense(256, activation='relu')(x)\n",
    "x = LayerNormalization()(x)\n",
    "x = Dropout(0.3)(x)\n",
    "\n",
    "output = Dense(num_classes, activation='softmax')(x)\n",
    "\n",
    "model = Model(inputs = inputs, outputs = output)"
   ]
  },
  {
   "cell_type": "code",
   "execution_count": 14,
   "id": "f4d1c2c2",
   "metadata": {},
   "outputs": [
    {
     "name": "stdout",
     "output_type": "stream",
     "text": [
      "Model: \"model\"\n",
      "__________________________________________________________________________________________________\n",
      "Layer (type)                    Output Shape         Param #     Connected to                     \n",
      "==================================================================================================\n",
      "input_1 (InputLayer)            [(None, 10, 11, 10)] 0                                            \n",
      "__________________________________________________________________________________________________\n",
      "conv2d (Conv2D)                 (None, 10, 11, 128)  1408        input_1[0][0]                    \n",
      "__________________________________________________________________________________________________\n",
      "conv2d_1 (Conv2D)               (None, 10, 11, 160)  20640       conv2d[0][0]                     \n",
      "__________________________________________________________________________________________________\n",
      "conv2d_2 (Conv2D)               (None, 10, 11, 128)  20608       conv2d_1[0][0]                   \n",
      "__________________________________________________________________________________________________\n",
      "average_pooling2d (AveragePooli (None, 1, 11, 128)   0           conv2d_2[0][0]                   \n",
      "__________________________________________________________________________________________________\n",
      "max_pooling2d (MaxPooling2D)    (None, 1, 11, 128)   0           conv2d_2[0][0]                   \n",
      "__________________________________________________________________________________________________\n",
      "lambda (Lambda)                 (None, 1, 11, 128)   0           average_pooling2d[0][0]          \n",
      "__________________________________________________________________________________________________\n",
      "lambda_1 (Lambda)               (None, 1, 11, 128)   0           max_pooling2d[0][0]              \n",
      "__________________________________________________________________________________________________\n",
      "add (Add)                       (None, 1, 11, 128)   0           lambda[0][0]                     \n",
      "                                                                 lambda_1[0][0]                   \n",
      "__________________________________________________________________________________________________\n",
      "reshape (Reshape)               (None, 11, 128)      0           add[0][0]                        \n",
      "__________________________________________________________________________________________________\n",
      "batch_normalization (BatchNorma (None, 11, 128)      512         reshape[0][0]                    \n",
      "__________________________________________________________________________________________________\n",
      "conv1d (Conv1D)                 (None, 11, 160)      20640       batch_normalization[0][0]        \n",
      "__________________________________________________________________________________________________\n",
      "batch_normalization_1 (BatchNor (None, 11, 160)      640         conv1d[0][0]                     \n",
      "__________________________________________________________________________________________________\n",
      "conv1d_1 (Conv1D)               (None, 11, 96)       15456       batch_normalization_1[0][0]      \n",
      "__________________________________________________________________________________________________\n",
      "batch_normalization_2 (BatchNor (None, 11, 96)       384         conv1d_1[0][0]                   \n",
      "__________________________________________________________________________________________________\n",
      "conv1d_2 (Conv1D)               (None, 11, 96)       9312        batch_normalization_2[0][0]      \n",
      "__________________________________________________________________________________________________\n",
      "batch_normalization_3 (BatchNor (None, 11, 96)       384         conv1d_2[0][0]                   \n",
      "__________________________________________________________________________________________________\n",
      "average_pooling1d (AveragePooli (None, 1, 96)        0           batch_normalization_3[0][0]      \n",
      "__________________________________________________________________________________________________\n",
      "max_pooling1d (MaxPooling1D)    (None, 1, 96)        0           batch_normalization_3[0][0]      \n",
      "__________________________________________________________________________________________________\n",
      "lambda_2 (Lambda)               (None, 1, 96)        0           average_pooling1d[0][0]          \n",
      "__________________________________________________________________________________________________\n",
      "lambda_3 (Lambda)               (None, 1, 96)        0           max_pooling1d[0][0]              \n",
      "__________________________________________________________________________________________________\n",
      "add_1 (Add)                     (None, 1, 96)        0           lambda_2[0][0]                   \n",
      "                                                                 lambda_3[0][0]                   \n",
      "__________________________________________________________________________________________________\n",
      "flatten (Flatten)               (None, 96)           0           add_1[0][0]                      \n",
      "__________________________________________________________________________________________________\n",
      "dense (Dense)                   (None, 96)           9312        flatten[0][0]                    \n",
      "__________________________________________________________________________________________________\n",
      "batch_normalization_4 (BatchNor (None, 96)           384         dense[0][0]                      \n",
      "__________________________________________________________________________________________________\n",
      "dense_1 (Dense)                 (None, 256)          24832       batch_normalization_4[0][0]      \n",
      "__________________________________________________________________________________________________\n",
      "layer_normalization (LayerNorma (None, 256)          512         dense_1[0][0]                    \n",
      "__________________________________________________________________________________________________\n",
      "dropout (Dropout)               (None, 256)          0           layer_normalization[0][0]        \n",
      "__________________________________________________________________________________________________\n",
      "dense_2 (Dense)                 (None, 80)           20560       dropout[0][0]                    \n",
      "==================================================================================================\n",
      "Total params: 145,584\n",
      "Trainable params: 144,432\n",
      "Non-trainable params: 1,152\n",
      "__________________________________________________________________________________________________\n"
     ]
    }
   ],
   "source": [
    "model.summary()"
   ]
  },
  {
   "cell_type": "markdown",
   "id": "4794608b",
   "metadata": {},
   "source": [
    "#### Define Callbacks and Early Stopping"
   ]
  },
  {
   "cell_type": "code",
   "execution_count": 15,
   "id": "0375e66f",
   "metadata": {},
   "outputs": [],
   "source": [
    "def crps(y_true, y_pred):\n",
    "    N = len(y_true)\n",
    "    \n",
    "    num = K.sum(K.sum((K.cumsum(y_pred, axis = 1) - K.cumsum(y_true, axis=1))**2, axis=1), axis=0)\n",
    "    den = float(199*N)\n",
    "    loss = num/den\n",
    "    \n",
    "    return loss"
   ]
  },
  {
   "cell_type": "code",
   "execution_count": 16,
   "id": "d8ded77f",
   "metadata": {},
   "outputs": [],
   "source": [
    "class Metric(Callback):\n",
    "    def __init__(self, model, callbacks, data):\n",
    "        super().__init__()\n",
    "        self.model = model\n",
    "        self.callbacks = callbacks\n",
    "        self.data = data\n",
    "\n",
    "    def on_train_begin(self, logs=None):\n",
    "        for callback in self.callbacks:\n",
    "            callback.on_train_begin(logs)\n",
    "\n",
    "    def on_train_end(self, logs=None):\n",
    "        for callback in self.callbacks:\n",
    "            callback.on_train_end(logs)\n",
    "\n",
    "    def on_epoch_end(self, batch, logs=None):\n",
    "        # we have a train and val tuple\n",
    "        # both house our features and yards gained\n",
    "        train_tuple = self.data[0]\n",
    "        val_tuple = self.data[1]\n",
    "        \n",
    "        X_train, y_train = train_tuple[0], train_tuple[1]\n",
    "        X_val, y_val = val_tuple[0], val_tuple[1]\n",
    "        \n",
    "        # generate predictions\n",
    "        train_preds = self.model.predict(X_train).astype(float)\n",
    "        val_preds = self.model.predict(X_val).astype(float)\n",
    "        \n",
    "        # calculate crps\n",
    "        train_crps = crps(y_train, train_preds)\n",
    "        val_crps = crps(y_val, val_preds)\n",
    "        \n",
    "        # store epoch train/val crps results in log\n",
    "        # will access this information in model.history.history\n",
    "        logs['train_CRPS'] = train_crps\n",
    "        logs['val_CRPS'] = val_crps\n",
    "        \n",
    "        for callback in self.callbacks:\n",
    "            callback.on_epoch_end(batch, logs)"
   ]
  },
  {
   "cell_type": "code",
   "execution_count": 17,
   "id": "8454b198",
   "metadata": {},
   "outputs": [],
   "source": [
    "es = EarlyStopping(monitor='val_CRPS', \n",
    "                   mode='min', \n",
    "                   restore_best_weights=True, \n",
    "                   verbose=1, \n",
    "                   patience=20)\n",
    "\n",
    "es.set_model(model)\n",
    "\n",
    "metric = Metric(model, [es], [(X_train, y_train), \n",
    "                              (X_val, y_val)])\n",
    "\n",
    "opt = Adam(learning_rate=0.001)"
   ]
  },
  {
   "cell_type": "code",
   "execution_count": 18,
   "id": "58be9f49",
   "metadata": {},
   "outputs": [],
   "source": [
    "model.compile(optimizer=opt, loss=crps)"
   ]
  },
  {
   "cell_type": "code",
   "execution_count": 19,
   "id": "f75f1f96",
   "metadata": {},
   "outputs": [],
   "source": [
    "n_epochs = 100\n",
    "batch_size = 64"
   ]
  },
  {
   "cell_type": "code",
   "execution_count": 20,
   "id": "53881bee",
   "metadata": {
    "scrolled": true
   },
   "outputs": [
    {
     "name": "stdout",
     "output_type": "stream",
     "text": [
      "Epoch 1/100\n",
      "388/388 [==============================] - 12s 27ms/step - loss: 0.0154 - val_loss: 0.0135\n",
      "Epoch 2/100\n",
      "388/388 [==============================] - 13s 34ms/step - loss: 0.0133 - val_loss: 0.0131\n",
      "Epoch 3/100\n",
      "388/388 [==============================] - 14s 35ms/step - loss: 0.0129 - val_loss: 0.0128\n",
      "Epoch 4/100\n",
      "388/388 [==============================] - 16s 40ms/step - loss: 0.0127 - val_loss: 0.0129\n",
      "Epoch 5/100\n",
      "388/388 [==============================] - 13s 33ms/step - loss: 0.0125 - val_loss: 0.0126\n",
      "Epoch 6/100\n",
      "388/388 [==============================] - 14s 35ms/step - loss: 0.0124 - val_loss: 0.0123\n",
      "Epoch 7/100\n",
      "388/388 [==============================] - 16s 41ms/step - loss: 0.0124 - val_loss: 0.0122\n",
      "Epoch 8/100\n",
      "388/388 [==============================] - 13s 34ms/step - loss: 0.0123 - val_loss: 0.0124\n",
      "Epoch 9/100\n",
      "388/388 [==============================] - 13s 35ms/step - loss: 0.0122 - val_loss: 0.0124\n",
      "Epoch 10/100\n",
      "388/388 [==============================] - 16s 40ms/step - loss: 0.0122 - val_loss: 0.0124\n",
      "Epoch 11/100\n",
      "388/388 [==============================] - 13s 34ms/step - loss: 0.0121 - val_loss: 0.0121\n",
      "Epoch 12/100\n",
      "388/388 [==============================] - 13s 34ms/step - loss: 0.0121 - val_loss: 0.0127\n",
      "Epoch 13/100\n",
      "388/388 [==============================] - 13s 34ms/step - loss: 0.0120 - val_loss: 0.0123\n",
      "Epoch 14/100\n",
      "388/388 [==============================] - 16s 40ms/step - loss: 0.0120 - val_loss: 0.0122\n",
      "Epoch 15/100\n",
      "388/388 [==============================] - 14s 36ms/step - loss: 0.0119 - val_loss: 0.0126\n",
      "Epoch 16/100\n",
      "388/388 [==============================] - 13s 33ms/step - loss: 0.0119 - val_loss: 0.0125\n",
      "Epoch 17/100\n",
      "388/388 [==============================] - 14s 35ms/step - loss: 0.0119 - val_loss: 0.0121\n",
      "Epoch 18/100\n",
      "388/388 [==============================] - 16s 41ms/step - loss: 0.0117 - val_loss: 0.0122\n",
      "Epoch 19/100\n",
      "388/388 [==============================] - 17s 43ms/step - loss: 0.0117 - val_loss: 0.0121\n",
      "Epoch 20/100\n",
      "388/388 [==============================] - 13s 34ms/step - loss: 0.0117 - val_loss: 0.0129\n",
      "Epoch 21/100\n",
      "388/388 [==============================] - 13s 34ms/step - loss: 0.0116 - val_loss: 0.0122\n",
      "Epoch 22/100\n",
      "388/388 [==============================] - 15s 38ms/step - loss: 0.0115 - val_loss: 0.0119\n",
      "Epoch 23/100\n",
      "388/388 [==============================] - 13s 35ms/step - loss: 0.0115 - val_loss: 0.0121\n",
      "Epoch 24/100\n",
      "388/388 [==============================] - 13s 33ms/step - loss: 0.0114 - val_loss: 0.0121\n",
      "Epoch 25/100\n",
      "388/388 [==============================] - 13s 34ms/step - loss: 0.0114 - val_loss: 0.0124\n",
      "Epoch 26/100\n",
      "388/388 [==============================] - 13s 33ms/step - loss: 0.0113 - val_loss: 0.0120\n",
      "Epoch 27/100\n",
      "388/388 [==============================] - 13s 33ms/step - loss: 0.0112 - val_loss: 0.0120\n",
      "Epoch 28/100\n",
      "388/388 [==============================] - 13s 33ms/step - loss: 0.0112 - val_loss: 0.0120\n",
      "Epoch 29/100\n",
      "388/388 [==============================] - 13s 33ms/step - loss: 0.0111 - val_loss: 0.0123\n",
      "Epoch 30/100\n",
      "388/388 [==============================] - 13s 33ms/step - loss: 0.0111 - val_loss: 0.0123\n",
      "Epoch 31/100\n",
      "388/388 [==============================] - 13s 33ms/step - loss: 0.0110 - val_loss: 0.0120\n",
      "Epoch 32/100\n",
      "388/388 [==============================] - 13s 34ms/step - loss: 0.0110 - val_loss: 0.0120\n",
      "Epoch 33/100\n",
      "388/388 [==============================] - 13s 33ms/step - loss: 0.0109 - val_loss: 0.0124\n",
      "Epoch 34/100\n",
      "388/388 [==============================] - 13s 33ms/step - loss: 0.0109 - val_loss: 0.0119\n",
      "Epoch 35/100\n",
      "388/388 [==============================] - 13s 34ms/step - loss: 0.0107 - val_loss: 0.0123\n",
      "Epoch 36/100\n",
      "388/388 [==============================] - 13s 33ms/step - loss: 0.0107 - val_loss: 0.0124\n",
      "Epoch 37/100\n",
      "388/388 [==============================] - 13s 33ms/step - loss: 0.0107 - val_loss: 0.0124\n",
      "Epoch 38/100\n",
      "388/388 [==============================] - 13s 35ms/step - loss: 0.0107 - val_loss: 0.0132\n",
      "Epoch 39/100\n",
      "388/388 [==============================] - 13s 34ms/step - loss: 0.0105 - val_loss: 0.0124\n",
      "Epoch 40/100\n",
      "388/388 [==============================] - 13s 33ms/step - loss: 0.0105 - val_loss: 0.0125\n",
      "Epoch 41/100\n",
      "388/388 [==============================] - 13s 34ms/step - loss: 0.0105 - val_loss: 0.0124\n",
      "Epoch 42/100\n",
      "388/388 [==============================] - 16s 41ms/step - loss: 0.0103 - val_loss: 0.0125\n",
      "Epoch 43/100\n",
      "388/388 [==============================] - 14s 35ms/step - loss: 0.0102 - val_loss: 0.0133\n",
      "Epoch 44/100\n",
      "388/388 [==============================] - 13s 35ms/step - loss: 0.0102 - val_loss: 0.0138\n",
      "Epoch 45/100\n",
      "388/388 [==============================] - 13s 35ms/step - loss: 0.0101 - val_loss: 0.0126\n",
      "Epoch 46/100\n",
      "388/388 [==============================] - 13s 32ms/step - loss: 0.0102 - val_loss: 0.0126\n",
      "Epoch 47/100\n",
      "388/388 [==============================] - 12s 32ms/step - loss: 0.0101 - val_loss: 0.0128\n",
      "Epoch 48/100\n",
      "388/388 [==============================] - 13s 35ms/step - loss: 0.0099 - val_loss: 0.0125\n",
      "Epoch 49/100\n",
      "388/388 [==============================] - 13s 34ms/step - loss: 0.0098 - val_loss: 0.0125\n",
      "Epoch 50/100\n",
      "388/388 [==============================] - 13s 34ms/step - loss: 0.0098 - val_loss: 0.0129\n",
      "Epoch 51/100\n",
      "388/388 [==============================] - 13s 34ms/step - loss: 0.0098 - val_loss: 0.0126\n",
      "Epoch 52/100\n",
      "388/388 [==============================] - 13s 35ms/step - loss: 0.0096 - val_loss: 0.0129\n",
      "Epoch 53/100\n",
      "388/388 [==============================] - 13s 34ms/step - loss: 0.0096 - val_loss: 0.0128\n",
      "Epoch 54/100\n",
      "388/388 [==============================] - 13s 34ms/step - loss: 0.0095 - val_loss: 0.0130\n",
      "Restoring model weights from the end of the best epoch.\n",
      "Epoch 00054: early stopping\n",
      "Wall time: 16min 31s\n"
     ]
    },
    {
     "data": {
      "text/plain": [
       "<keras.callbacks.History at 0x123dbbfa9d0>"
      ]
     },
     "execution_count": 20,
     "metadata": {},
     "output_type": "execute_result"
    }
   ],
   "source": [
    "%%time\n",
    "model.fit(X_train,\n",
    "          y_train, \n",
    "          epochs=n_epochs,\n",
    "          batch_size=batch_size,\n",
    "          verbose=1,\n",
    "          callbacks=[metric],\n",
    "          validation_data=(X_val, y_val))"
   ]
  },
  {
   "cell_type": "code",
   "execution_count": 21,
   "id": "88b95d69",
   "metadata": {},
   "outputs": [],
   "source": [
    "history = model.history.history\n",
    "\n",
    "train_history = history['train_CRPS']\n",
    "val_history = history['val_CRPS']\n",
    "\n",
    "indexes = [x for x in range(len(val_history))]"
   ]
  },
  {
   "cell_type": "code",
   "execution_count": 22,
   "id": "4466f869",
   "metadata": {},
   "outputs": [
    {
     "data": {
      "image/png": "[encoded data removed]",
      "text/plain": [
       "<Figure size 720x720 with 1 Axes>"
      ]
     },
     "metadata": {
      "needs_background": "light"
     },
     "output_type": "display_data"
    }
   ],
   "source": [
    "plt.figure(figsize=(10,10))\n",
    "plt.plot(indexes, train_history)\n",
    "plt.plot(indexes, val_history)\n",
    "plt.xlabel('epoch')\n",
    "plt.ylabel('CRPS')\n",
    "plt.title('CRPS by Epoch')\n",
    "plt.legend(['train','validation'])\n",
    "plt.show()"
   ]
  },
  {
   "cell_type": "code",
   "execution_count": null,
   "id": "b655ff71",
   "metadata": {},
   "outputs": [],
   "source": []
  }
 ],
 "metadata": {
  "kernelspec": {
   "display_name": "Python 3",
   "language": "python",
   "name": "python3"
  },
  "language_info": {
   "codemirror_mode": {
    "name": "ipython",
    "version": 3
   },
   "file_extension": ".py",
   "mimetype": "text/x-python",
   "name": "python",
   "nbconvert_exporter": "python",
   "pygments_lexer": "ipython3",
   "version": "3.8.8"
  }
 },
 "nbformat": 4,
 "nbformat_minor": 5
}
