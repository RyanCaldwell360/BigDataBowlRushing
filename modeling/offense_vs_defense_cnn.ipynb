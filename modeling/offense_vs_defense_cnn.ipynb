{
 "cells": [
  {
   "cell_type": "code",
   "execution_count": 1,
   "id": "d157699d",
   "metadata": {},
   "outputs": [],
   "source": [
    "import numpy as np\n",
    "import pandas as pd\n",
    "import matplotlib.pyplot as plt\n",
    "from sklearn.model_selection import KFold\n",
    "from sklearn.preprocessing import StandardScaler\n",
    "from sklearn.metrics import average_precision_score\n",
    "\n",
    "# keras functionality\n",
    "from tensorflow.keras import backend as K\n",
    "from tensorflow.keras.models import Model\n",
    "from tensorflow.keras.optimizers import Adam\n",
    "from tensorflow.keras.utils import to_categorical\n",
    "from tensorflow.keras.callbacks import Callback, EarlyStopping\n",
    "from tensorflow.keras.layers import (Activation, Add, Average, AvgPool1D, AvgPool2D, BatchNormalization, Concatenate, Conv1D, Conv2D,\n",
    "                                     Dense, Dropout, Flatten, Input, Lambda, LayerNormalization, MaxPool1D, MaxPool2D, Reshape)"
   ]
  },
  {
   "cell_type": "markdown",
   "id": "266acd8d",
   "metadata": {},
   "source": [
    "# Read in data"
   ]
  },
  {
   "cell_type": "code",
   "execution_count": 2,
   "id": "f106ba5d",
   "metadata": {},
   "outputs": [],
   "source": [
    "od_feats = np.load('../data/offense_vs_defensive_features.npy')"
   ]
  },
  {
   "cell_type": "code",
   "execution_count": 3,
   "id": "1707021d",
   "metadata": {},
   "outputs": [
    {
     "data": {
      "text/plain": [
       "(31007, 11, 11, 5)"
      ]
     },
     "execution_count": 3,
     "metadata": {},
     "output_type": "execute_result"
    }
   ],
   "source": [
    "od_feats.shape"
   ]
  },
  {
   "cell_type": "code",
   "execution_count": 4,
   "id": "bbcd1b54",
   "metadata": {},
   "outputs": [],
   "source": [
    "Yards = pd.read_csv('../data/yard_outcomes.csv')"
   ]
  },
  {
   "cell_type": "code",
   "execution_count": 5,
   "id": "8ec86bd6",
   "metadata": {},
   "outputs": [
    {
     "data": {
      "text/html": [
       "<div>\n",
       "<style scoped>\n",
       "    .dataframe tbody tr th:only-of-type {\n",
       "        vertical-align: middle;\n",
       "    }\n",
       "\n",
       "    .dataframe tbody tr th {\n",
       "        vertical-align: top;\n",
       "    }\n",
       "\n",
       "    .dataframe thead th {\n",
       "        text-align: right;\n",
       "    }\n",
       "</style>\n",
       "<table border=\"1\" class=\"dataframe\">\n",
       "  <thead>\n",
       "    <tr style=\"text-align: right;\">\n",
       "      <th></th>\n",
       "      <th>GameId</th>\n",
       "      <th>PlayId</th>\n",
       "      <th>Yards</th>\n",
       "    </tr>\n",
       "  </thead>\n",
       "  <tbody>\n",
       "    <tr>\n",
       "      <th>0</th>\n",
       "      <td>2017090700</td>\n",
       "      <td>20170907000118</td>\n",
       "      <td>8</td>\n",
       "    </tr>\n",
       "    <tr>\n",
       "      <th>1</th>\n",
       "      <td>2017090700</td>\n",
       "      <td>20170907000139</td>\n",
       "      <td>3</td>\n",
       "    </tr>\n",
       "    <tr>\n",
       "      <th>2</th>\n",
       "      <td>2017090700</td>\n",
       "      <td>20170907000189</td>\n",
       "      <td>5</td>\n",
       "    </tr>\n",
       "    <tr>\n",
       "      <th>3</th>\n",
       "      <td>2017090700</td>\n",
       "      <td>20170907000345</td>\n",
       "      <td>2</td>\n",
       "    </tr>\n",
       "    <tr>\n",
       "      <th>4</th>\n",
       "      <td>2017090700</td>\n",
       "      <td>20170907000395</td>\n",
       "      <td>7</td>\n",
       "    </tr>\n",
       "  </tbody>\n",
       "</table>\n",
       "</div>"
      ],
      "text/plain": [
       "       GameId          PlayId  Yards\n",
       "0  2017090700  20170907000118      8\n",
       "1  2017090700  20170907000139      3\n",
       "2  2017090700  20170907000189      5\n",
       "3  2017090700  20170907000345      2\n",
       "4  2017090700  20170907000395      7"
      ]
     },
     "execution_count": 5,
     "metadata": {},
     "output_type": "execute_result"
    }
   ],
   "source": [
    "Yards.head()"
   ]
  },
  {
   "cell_type": "markdown",
   "id": "84f0cd98",
   "metadata": {},
   "source": [
    "# Create Dependent Variable"
   ]
  },
  {
   "cell_type": "markdown",
   "id": "de3a15e1",
   "metadata": {},
   "source": [
    "Creating an index that refers to 0-198. An index of 0 would refer to a -99 yard loss, and an index of 198 is a 99 yard rush. For some reason the public kernels liked to cap these predicted indexes between 71 and 150 (-28 yard rush to 51 yard rush). It turns out the worst rush was only -15 yards lost, so it doesn't get capped on the lower end."
   ]
  },
  {
   "cell_type": "code",
   "execution_count": 36,
   "id": "03406edd",
   "metadata": {},
   "outputs": [
    {
     "name": "stdout",
     "output_type": "stream",
     "text": [
      "199\n"
     ]
    }
   ],
   "source": [
    "Yards['YardIndex'] = Yards['Yards'].apply(lambda val: val + 99)\n",
    "\n",
    "min_idx_y = 0\n",
    "max_idx_y = 198\n",
    "num_classes = max_idx_y - min_idx_y + 1\n",
    "\n",
    "Yards['YardIndexClipped'] = Yards['YardIndex'].apply(lambda val: min_idx_y if val < min_idx_y else max_idx_y if val > max_idx_y else val)\n",
    "\n",
    "print(num_classes)"
   ]
  },
  {
   "cell_type": "code",
   "execution_count": 37,
   "id": "34ff3cb8",
   "metadata": {},
   "outputs": [
    {
     "data": {
      "text/html": [
       "<div>\n",
       "<style scoped>\n",
       "    .dataframe tbody tr th:only-of-type {\n",
       "        vertical-align: middle;\n",
       "    }\n",
       "\n",
       "    .dataframe tbody tr th {\n",
       "        vertical-align: top;\n",
       "    }\n",
       "\n",
       "    .dataframe thead th {\n",
       "        text-align: right;\n",
       "    }\n",
       "</style>\n",
       "<table border=\"1\" class=\"dataframe\">\n",
       "  <thead>\n",
       "    <tr style=\"text-align: right;\">\n",
       "      <th></th>\n",
       "      <th>GameId</th>\n",
       "      <th>PlayId</th>\n",
       "      <th>Yards</th>\n",
       "      <th>YardIndex</th>\n",
       "      <th>YardIndexClipped</th>\n",
       "    </tr>\n",
       "  </thead>\n",
       "  <tbody>\n",
       "    <tr>\n",
       "      <th>0</th>\n",
       "      <td>2017090700</td>\n",
       "      <td>20170907000118</td>\n",
       "      <td>8</td>\n",
       "      <td>107</td>\n",
       "      <td>107</td>\n",
       "    </tr>\n",
       "    <tr>\n",
       "      <th>1</th>\n",
       "      <td>2017090700</td>\n",
       "      <td>20170907000139</td>\n",
       "      <td>3</td>\n",
       "      <td>102</td>\n",
       "      <td>102</td>\n",
       "    </tr>\n",
       "    <tr>\n",
       "      <th>2</th>\n",
       "      <td>2017090700</td>\n",
       "      <td>20170907000189</td>\n",
       "      <td>5</td>\n",
       "      <td>104</td>\n",
       "      <td>104</td>\n",
       "    </tr>\n",
       "    <tr>\n",
       "      <th>3</th>\n",
       "      <td>2017090700</td>\n",
       "      <td>20170907000345</td>\n",
       "      <td>2</td>\n",
       "      <td>101</td>\n",
       "      <td>101</td>\n",
       "    </tr>\n",
       "    <tr>\n",
       "      <th>4</th>\n",
       "      <td>2017090700</td>\n",
       "      <td>20170907000395</td>\n",
       "      <td>7</td>\n",
       "      <td>106</td>\n",
       "      <td>106</td>\n",
       "    </tr>\n",
       "  </tbody>\n",
       "</table>\n",
       "</div>"
      ],
      "text/plain": [
       "       GameId          PlayId  Yards  YardIndex  YardIndexClipped\n",
       "0  2017090700  20170907000118      8        107               107\n",
       "1  2017090700  20170907000139      3        102               102\n",
       "2  2017090700  20170907000189      5        104               104\n",
       "3  2017090700  20170907000345      2        101               101\n",
       "4  2017090700  20170907000395      7        106               106"
      ]
     },
     "execution_count": 37,
     "metadata": {},
     "output_type": "execute_result"
    }
   ],
   "source": [
    "Yards.head()"
   ]
  },
  {
   "cell_type": "code",
   "execution_count": 38,
   "id": "0e767660",
   "metadata": {},
   "outputs": [],
   "source": [
    "Y = Yards['YardIndexClipped'].values\n",
    "\n",
    "y = np.zeros((len(Y), num_classes), np.int32)\n",
    "for indx, row in enumerate(Y):\n",
    "    y[(indx, row - min_idx_y)] = 1\n",
    "\n",
    "y = y.astype('float32')"
   ]
  },
  {
   "cell_type": "markdown",
   "id": "24d072f1",
   "metadata": {},
   "source": [
    "# Standardize Features"
   ]
  },
  {
   "cell_type": "code",
   "execution_count": 10,
   "id": "61455c59",
   "metadata": {},
   "outputs": [],
   "source": [
    "X = (od_feats - od_feats.mean(axis=0))/(od_feats.std(axis=0))"
   ]
  },
  {
   "cell_type": "markdown",
   "id": "dad98c53",
   "metadata": {},
   "source": [
    "# Split data into train/val/test"
   ]
  },
  {
   "cell_type": "code",
   "execution_count": 11,
   "id": "b0aa59a7",
   "metadata": {},
   "outputs": [
    {
     "data": {
      "text/plain": [
       "(24805, 3101, 3101)"
      ]
     },
     "execution_count": 11,
     "metadata": {},
     "output_type": "execute_result"
    }
   ],
   "source": [
    "N = Yards.shape[0]\n",
    "train_perc = 0.80\n",
    "val_test_perc = 0.50\n",
    "\n",
    "train_N = int(N*train_perc)\n",
    "val_N = int((N-train_N)*val_test_perc)\n",
    "test_N = int(N-train_N-val_N)\n",
    "(train_N, val_N, test_N)"
   ]
  },
  {
   "cell_type": "code",
   "execution_count": 12,
   "id": "bc3bfd28",
   "metadata": {},
   "outputs": [
    {
     "name": "stdout",
     "output_type": "stream",
     "text": [
      "24805 3101 3101\n"
     ]
    }
   ],
   "source": [
    "train_indx = np.random.choice(a=Yards.index, size=train_N, replace=False)\n",
    "\n",
    "remaining_indexes = [x for x in Yards.index if x not in train_indx]\n",
    "val_indx = np.random.choice(a=remaining_indexes, size=val_N, replace=False)\n",
    "\n",
    "test_indx = [x for x in remaining_indexes if x not in val_indx]\n",
    "\n",
    "print(len(train_indx), len(val_indx), len(test_indx))"
   ]
  },
  {
   "cell_type": "code",
   "execution_count": 39,
   "id": "1ffc68b6",
   "metadata": {},
   "outputs": [
    {
     "name": "stdout",
     "output_type": "stream",
     "text": [
      "((24805, 11, 11, 5), (24805, 199)) ((3101, 11, 11, 5), (3101, 199)) ((3101, 11, 11, 5), (3101, 199))\n"
     ]
    }
   ],
   "source": [
    "X_train = X[train_indx, :, :]\n",
    "X_val = X[val_indx, :, :]\n",
    "X_test = X[test_indx, :, :]\n",
    "\n",
    "y_train = y[train_indx]\n",
    "y_val = y[val_indx]\n",
    "y_test = y[test_indx]\n",
    "\n",
    "print((X_train.shape, y_train.shape), (X_val.shape, y_val.shape), (X_test.shape, y_test.shape))"
   ]
  },
  {
   "cell_type": "markdown",
   "id": "397a6e39",
   "metadata": {},
   "source": [
    "# Define Model Architecture"
   ]
  },
  {
   "cell_type": "code",
   "execution_count": 48,
   "id": "0c83f3d1",
   "metadata": {
    "scrolled": false
   },
   "outputs": [],
   "source": [
    "K.clear_session()\n",
    "\n",
    "# input dimension is 11 offensive players x 11 defensive players x 5 features\n",
    "inputs = Input(shape=(11,11,5))\n",
    "\n",
    "x = Conv2D(128, kernel_size=(1,1), activation='relu')(inputs)\n",
    "x = Conv2D(160, kernel_size=(1,1), activation='relu')(x)\n",
    "x = Conv2D(128, kernel_size=(1,1), activation='relu')(x)\n",
    "\n",
    "a = AvgPool2D(pool_size=(11,1))(x)\n",
    "a = Lambda(lambda x: x*0.7)(a)\n",
    "m = MaxPool2D(pool_size=(11,1))(x)\n",
    "m = Lambda(lambda x: x*0.3)(m)\n",
    "\n",
    "x = Add()([a, m])\n",
    "x = Reshape((11,128))(x)\n",
    "\n",
    "x = BatchNormalization()(x)\n",
    "\n",
    "x = Conv1D(160, kernel_size=1, strides=1, activation='relu')(x)\n",
    "x = BatchNormalization()(x)\n",
    "x = Conv1D(96, kernel_size=1, strides=1, activation='relu')(x)\n",
    "x = BatchNormalization()(x)\n",
    "x = Conv1D(96, kernel_size=1, strides=1, activation='relu')(x)\n",
    "x = BatchNormalization()(x)\n",
    "\n",
    "a = AvgPool1D(pool_size=11)(x)\n",
    "m = MaxPool1D(pool_size=11)(x)\n",
    "\n",
    "x = Average()([a,m])\n",
    "x = Flatten()(x)\n",
    "\n",
    "x = Dense(96, activation='relu')(x)\n",
    "x = BatchNormalization()(x)\n",
    "x = Dense(256, activation='relu')(x)\n",
    "x = BatchNormalization()(x)\n",
    "x = Dropout(0.3)(x)\n",
    "\n",
    "output = Dense(num_classes, activation='softmax')(x)\n",
    "\n",
    "model = Model(inputs = inputs, outputs = output)"
   ]
  },
  {
   "cell_type": "code",
   "execution_count": 49,
   "id": "f4d1c2c2",
   "metadata": {},
   "outputs": [
    {
     "name": "stdout",
     "output_type": "stream",
     "text": [
      "Model: \"model\"\n",
      "__________________________________________________________________________________________________\n",
      "Layer (type)                    Output Shape         Param #     Connected to                     \n",
      "==================================================================================================\n",
      "input_1 (InputLayer)            [(None, 11, 11, 5)]  0                                            \n",
      "__________________________________________________________________________________________________\n",
      "conv2d (Conv2D)                 (None, 11, 11, 128)  768         input_1[0][0]                    \n",
      "__________________________________________________________________________________________________\n",
      "conv2d_1 (Conv2D)               (None, 11, 11, 160)  20640       conv2d[0][0]                     \n",
      "__________________________________________________________________________________________________\n",
      "conv2d_2 (Conv2D)               (None, 11, 11, 128)  20608       conv2d_1[0][0]                   \n",
      "__________________________________________________________________________________________________\n",
      "average_pooling2d (AveragePooli (None, 1, 11, 128)   0           conv2d_2[0][0]                   \n",
      "__________________________________________________________________________________________________\n",
      "max_pooling2d (MaxPooling2D)    (None, 1, 11, 128)   0           conv2d_2[0][0]                   \n",
      "__________________________________________________________________________________________________\n",
      "lambda (Lambda)                 (None, 1, 11, 128)   0           average_pooling2d[0][0]          \n",
      "__________________________________________________________________________________________________\n",
      "lambda_1 (Lambda)               (None, 1, 11, 128)   0           max_pooling2d[0][0]              \n",
      "__________________________________________________________________________________________________\n",
      "add (Add)                       (None, 1, 11, 128)   0           lambda[0][0]                     \n",
      "                                                                 lambda_1[0][0]                   \n",
      "__________________________________________________________________________________________________\n",
      "reshape (Reshape)               (None, 11, 128)      0           add[0][0]                        \n",
      "__________________________________________________________________________________________________\n",
      "batch_normalization (BatchNorma (None, 11, 128)      512         reshape[0][0]                    \n",
      "__________________________________________________________________________________________________\n",
      "conv1d (Conv1D)                 (None, 11, 160)      20640       batch_normalization[0][0]        \n",
      "__________________________________________________________________________________________________\n",
      "batch_normalization_1 (BatchNor (None, 11, 160)      640         conv1d[0][0]                     \n",
      "__________________________________________________________________________________________________\n",
      "conv1d_1 (Conv1D)               (None, 11, 96)       15456       batch_normalization_1[0][0]      \n",
      "__________________________________________________________________________________________________\n",
      "batch_normalization_2 (BatchNor (None, 11, 96)       384         conv1d_1[0][0]                   \n",
      "__________________________________________________________________________________________________\n",
      "conv1d_2 (Conv1D)               (None, 11, 96)       9312        batch_normalization_2[0][0]      \n",
      "__________________________________________________________________________________________________\n",
      "batch_normalization_3 (BatchNor (None, 11, 96)       384         conv1d_2[0][0]                   \n",
      "__________________________________________________________________________________________________\n",
      "average_pooling1d (AveragePooli (None, 1, 96)        0           batch_normalization_3[0][0]      \n",
      "__________________________________________________________________________________________________\n",
      "max_pooling1d (MaxPooling1D)    (None, 1, 96)        0           batch_normalization_3[0][0]      \n",
      "__________________________________________________________________________________________________\n",
      "average (Average)               (None, 1, 96)        0           average_pooling1d[0][0]          \n",
      "                                                                 max_pooling1d[0][0]              \n",
      "__________________________________________________________________________________________________\n",
      "flatten (Flatten)               (None, 96)           0           average[0][0]                    \n",
      "__________________________________________________________________________________________________\n",
      "dense (Dense)                   (None, 96)           9312        flatten[0][0]                    \n",
      "__________________________________________________________________________________________________\n",
      "batch_normalization_4 (BatchNor (None, 96)           384         dense[0][0]                      \n",
      "__________________________________________________________________________________________________\n",
      "dense_1 (Dense)                 (None, 256)          24832       batch_normalization_4[0][0]      \n",
      "__________________________________________________________________________________________________\n",
      "batch_normalization_5 (BatchNor (None, 256)          1024        dense_1[0][0]                    \n",
      "__________________________________________________________________________________________________\n",
      "dropout (Dropout)               (None, 256)          0           batch_normalization_5[0][0]      \n",
      "__________________________________________________________________________________________________\n",
      "dense_2 (Dense)                 (None, 199)          51143       dropout[0][0]                    \n",
      "==================================================================================================\n",
      "Total params: 176,039\n",
      "Trainable params: 174,375\n",
      "Non-trainable params: 1,664\n",
      "__________________________________________________________________________________________________\n"
     ]
    }
   ],
   "source": [
    "model.summary()"
   ]
  },
  {
   "cell_type": "markdown",
   "id": "4794608b",
   "metadata": {},
   "source": [
    "#### Define Callbacks and Early Stopping"
   ]
  },
  {
   "cell_type": "code",
   "execution_count": 50,
   "id": "0def4755",
   "metadata": {},
   "outputs": [],
   "source": [
    "def crps(y_true, y_pred):\n",
    "    loss = K.mean(K.sum((K.cumsum(y_pred, axis = 1) - K.cumsum(y_true, axis=1))**2, axis=1))/199\n",
    "    return loss"
   ]
  },
  {
   "cell_type": "code",
   "execution_count": 51,
   "id": "d8ded77f",
   "metadata": {},
   "outputs": [],
   "source": [
    "class Metric(Callback):\n",
    "    def __init__(self, model, callbacks, data):\n",
    "        super().__init__()\n",
    "        self.model = model\n",
    "        self.callbacks = callbacks\n",
    "        self.data = data\n",
    "\n",
    "    def on_train_begin(self, logs=None):\n",
    "        for callback in self.callbacks:\n",
    "            callback.on_train_begin(logs)\n",
    "\n",
    "    def on_train_end(self, logs=None):\n",
    "        for callback in self.callbacks:\n",
    "            callback.on_train_end(logs)\n",
    "\n",
    "    def on_epoch_end(self, batch, logs=None):\n",
    "        X_valid, y_valid = self.data[0], self.data[1]\n",
    "\n",
    "        y_pred = self.model.predict(X_valid)\n",
    "        y_true = np.clip(np.cumsum(y_valid, axis=1), 0, 1)\n",
    "        y_pred = np.clip(np.cumsum(y_pred, axis=1), 0, 1)\n",
    "        val_s = ((y_true - y_pred) ** 2).sum(axis=1).sum(axis=0) / (199 * X_valid.shape[0])\n",
    "        logs['val_CRPS'] = val_s\n",
    "        \n",
    "        for callback in self.callbacks:\n",
    "            callback.on_epoch_end(batch, logs)"
   ]
  },
  {
   "cell_type": "code",
   "execution_count": 52,
   "id": "8454b198",
   "metadata": {},
   "outputs": [],
   "source": [
    "es = EarlyStopping(monitor='val_CRPS', \n",
    "                   mode='min', \n",
    "                   restore_best_weights=True, \n",
    "                   verbose=0, \n",
    "                   patience=10)\n",
    "\n",
    "es.set_model(model)\n",
    "\n",
    "metric = Metric(model, [es], [X_val, y_val])\n",
    "\n",
    "opt = Adam(learning_rate=0.001)"
   ]
  },
  {
   "cell_type": "code",
   "execution_count": 53,
   "id": "58be9f49",
   "metadata": {},
   "outputs": [],
   "source": [
    "model.compile(loss=crps, optimizer=opt)"
   ]
  },
  {
   "cell_type": "code",
   "execution_count": 54,
   "id": "f75f1f96",
   "metadata": {},
   "outputs": [],
   "source": [
    "n_epochs = 30\n",
    "batch_size = 64"
   ]
  },
  {
   "cell_type": "code",
   "execution_count": 55,
   "id": "53881bee",
   "metadata": {
    "scrolled": true
   },
   "outputs": [
    {
     "name": "stdout",
     "output_type": "stream",
     "text": [
      "Epoch 1/30\n",
      "388/388 [==============================] - 27s 60ms/step - loss: 0.0198 - val_loss: 0.0149\n",
      "Epoch 2/30\n",
      "388/388 [==============================] - 21s 54ms/step - loss: 0.0148 - val_loss: 0.0141\n",
      "Epoch 3/30\n",
      "388/388 [==============================] - 23s 59ms/step - loss: 0.0144 - val_loss: 0.0142\n",
      "Epoch 4/30\n",
      "388/388 [==============================] - 24s 61ms/step - loss: 0.0141 - val_loss: 0.0138\n",
      "Epoch 5/30\n",
      "388/388 [==============================] - 23s 59ms/step - loss: 0.0140 - val_loss: 0.0144\n",
      "Epoch 6/30\n",
      "388/388 [==============================] - 24s 61ms/step - loss: 0.0139 - val_loss: 0.0141\n",
      "Epoch 7/30\n",
      "388/388 [==============================] - 24s 62ms/step - loss: 0.0138 - val_loss: 0.0138\n",
      "Epoch 8/30\n",
      "388/388 [==============================] - 24s 61ms/step - loss: 0.0138 - val_loss: 0.0137\n",
      "Epoch 9/30\n",
      "388/388 [==============================] - 24s 61ms/step - loss: 0.0137 - val_loss: 0.0137\n",
      "Epoch 10/30\n",
      "388/388 [==============================] - 24s 61ms/step - loss: 0.0136 - val_loss: 0.0136\n",
      "Epoch 11/30\n",
      "388/388 [==============================] - 24s 62ms/step - loss: 0.0136 - val_loss: 0.0135\n",
      "Epoch 12/30\n",
      "388/388 [==============================] - 24s 62ms/step - loss: 0.0136 - val_loss: 0.0144\n",
      "Epoch 13/30\n",
      "388/388 [==============================] - 23s 60ms/step - loss: 0.0135 - val_loss: 0.0135\n",
      "Epoch 14/30\n",
      "388/388 [==============================] - 24s 61ms/step - loss: 0.0135 - val_loss: 0.0137\n",
      "Epoch 15/30\n",
      "388/388 [==============================] - 24s 62ms/step - loss: 0.0134 - val_loss: 0.0134\n",
      "Epoch 16/30\n",
      "388/388 [==============================] - 24s 61ms/step - loss: 0.0133 - val_loss: 0.0133\n",
      "Epoch 17/30\n",
      "388/388 [==============================] - 24s 62ms/step - loss: 0.0133 - val_loss: 0.0132\n",
      "Epoch 18/30\n",
      "388/388 [==============================] - 24s 62ms/step - loss: 0.0132 - val_loss: 0.0147\n",
      "Epoch 19/30\n",
      "388/388 [==============================] - 24s 62ms/step - loss: 0.0132 - val_loss: 0.0135\n",
      "Epoch 20/30\n",
      "388/388 [==============================] - 24s 62ms/step - loss: 0.0131 - val_loss: 0.0132\n",
      "Epoch 21/30\n",
      "388/388 [==============================] - 24s 61ms/step - loss: 0.0131 - val_loss: 0.0134\n",
      "Epoch 22/30\n",
      "388/388 [==============================] - 25s 64ms/step - loss: 0.0131 - val_loss: 0.0133\n",
      "Epoch 23/30\n",
      "388/388 [==============================] - 24s 62ms/step - loss: 0.0130 - val_loss: 0.0133\n",
      "Epoch 24/30\n",
      "388/388 [==============================] - 24s 62ms/step - loss: 0.0129 - val_loss: 0.0133\n",
      "Epoch 25/30\n",
      "388/388 [==============================] - 24s 62ms/step - loss: 0.0129 - val_loss: 0.0137\n",
      "Epoch 26/30\n",
      "388/388 [==============================] - 25s 64ms/step - loss: 0.0129 - val_loss: 0.0135\n",
      "Epoch 27/30\n",
      "388/388 [==============================] - 23s 60ms/step - loss: 0.0128 - val_loss: 0.0136\n",
      "Epoch 28/30\n",
      "388/388 [==============================] - 23s 59ms/step - loss: 0.0128 - val_loss: 0.0134\n",
      "Epoch 29/30\n",
      "388/388 [==============================] - 23s 59ms/step - loss: 0.0127 - val_loss: 0.0137\n",
      "Epoch 30/30\n",
      "388/388 [==============================] - 23s 59ms/step - loss: 0.0126 - val_loss: 0.0143\n",
      "Wall time: 12min 26s\n"
     ]
    },
    {
     "data": {
      "text/plain": [
       "<keras.callbacks.History at 0x297c96ad130>"
      ]
     },
     "execution_count": 55,
     "metadata": {},
     "output_type": "execute_result"
    }
   ],
   "source": [
    "%%time\n",
    "model.fit(X_train,\n",
    "          y_train, \n",
    "          epochs=n_epochs,\n",
    "          batch_size=batch_size,\n",
    "          verbose=1,\n",
    "          callbacks=[metric],\n",
    "          validation_data=(X_val, y_val))"
   ]
  },
  {
   "cell_type": "code",
   "execution_count": 56,
   "id": "ca1dfc04",
   "metadata": {},
   "outputs": [],
   "source": [
    "train_preds = model.predict(X_train)\n",
    "val_preds = model.predict(X_val)\n",
    "test_preds = model.predict(X_test)"
   ]
  },
  {
   "cell_type": "code",
   "execution_count": 60,
   "id": "6bd89ab2",
   "metadata": {},
   "outputs": [
    {
     "data": {
      "text/plain": [
       "array([0., 0., 0., 0., 0., 0., 0., 0., 0., 0., 0., 0., 0., 0., 0., 0., 0.,\n",
       "       0., 0., 0., 0., 0., 0., 0., 0., 0., 0., 0., 0., 0., 0., 0., 0., 0.,\n",
       "       0., 0., 0., 0., 0., 0., 0., 0., 0., 0., 0., 0., 0., 0., 0., 0., 0.,\n",
       "       0., 0., 0., 0., 0., 0., 0., 0., 0., 0., 0., 0., 0., 0., 0., 0., 0.,\n",
       "       0., 0., 0., 0., 0., 0., 0., 0., 0., 0., 0., 0., 0., 0., 0., 0., 0.,\n",
       "       0., 0., 0., 0., 0., 0., 0., 0., 0., 0., 0., 0., 0., 0., 0., 0., 0.,\n",
       "       0., 1., 0., 0., 0., 0., 0., 0., 0., 0., 0., 0., 0., 0., 0., 0., 0.,\n",
       "       0., 0., 0., 0., 0., 0., 0., 0., 0., 0., 0., 0., 0., 0., 0., 0., 0.,\n",
       "       0., 0., 0., 0., 0., 0., 0., 0., 0., 0., 0., 0., 0., 0., 0., 0., 0.,\n",
       "       0., 0., 0., 0., 0., 0., 0., 0., 0., 0., 0., 0., 0., 0., 0., 0., 0.,\n",
       "       0., 0., 0., 0., 0., 0., 0., 0., 0., 0., 0., 0., 0., 0., 0., 0., 0.,\n",
       "       0., 0., 0., 0., 0., 0., 0., 0., 0., 0., 0., 0.], dtype=float32)"
      ]
     },
     "execution_count": 60,
     "metadata": {},
     "output_type": "execute_result"
    }
   ],
   "source": [
    "y_train[0]"
   ]
  },
  {
   "cell_type": "code",
   "execution_count": 62,
   "id": "715affef",
   "metadata": {},
   "outputs": [
    {
     "data": {
      "text/plain": [
       "array([9.5160913e-06, 2.0239346e-05, 3.3851735e-05, 4.0540428e-05,\n",
       "       4.7648700e-05, 5.4460943e-05, 5.8603142e-05, 6.4378459e-05,\n",
       "       6.9419373e-05, 7.7327051e-05, 8.2415718e-05, 8.8928617e-05,\n",
       "       9.7560915e-05, 1.0596512e-04, 1.1286179e-04, 1.1923726e-04,\n",
       "       1.2739503e-04, 1.3937705e-04, 1.4929849e-04, 1.5877988e-04,\n",
       "       1.6632696e-04, 1.7679312e-04, 1.8471695e-04, 1.9585979e-04,\n",
       "       2.0419930e-04, 2.1189929e-04, 2.2178219e-04, 2.2862764e-04,\n",
       "       2.3792090e-04, 2.4660741e-04, 2.5293554e-04, 2.6172507e-04,\n",
       "       2.6695593e-04, 2.7768739e-04, 2.8527298e-04, 2.9880766e-04,\n",
       "       3.0596918e-04, 3.2741239e-04, 3.3565558e-04, 3.4112041e-04,\n",
       "       3.4886069e-04, 3.5478570e-04, 3.6125057e-04, 3.6931885e-04,\n",
       "       3.7335014e-04, 3.8241199e-04, 3.8895680e-04, 3.9576154e-04,\n",
       "       4.0471798e-04, 4.1210846e-04, 4.1917808e-04, 4.2825751e-04,\n",
       "       4.3252265e-04, 4.3724268e-04, 4.4187889e-04, 4.4837943e-04,\n",
       "       4.5370750e-04, 4.7971026e-04, 4.9049221e-04, 4.9944251e-04,\n",
       "       5.0508336e-04, 5.3376681e-04, 5.4085616e-04, 5.5463857e-04,\n",
       "       5.6113669e-04, 5.7217374e-04, 5.8193970e-04, 5.8626785e-04,\n",
       "       5.9748587e-04, 6.1586307e-04, 6.2143977e-04, 6.4049324e-04,\n",
       "       7.1892579e-04, 7.9063512e-04, 8.0107618e-04, 8.3833968e-04,\n",
       "       8.5366925e-04, 8.7099732e-04, 8.8747090e-04, 9.1322383e-04,\n",
       "       9.3438278e-04, 9.9091337e-04, 1.0417586e-03, 1.0665278e-03,\n",
       "       1.1023987e-03, 1.1757562e-03, 1.2734614e-03, 1.3168275e-03,\n",
       "       1.3946869e-03, 1.5131218e-03, 1.6158536e-03, 1.7244327e-03,\n",
       "       1.9987498e-03, 2.4687257e-03, 3.0815939e-03, 5.5876300e-03,\n",
       "       1.1624588e-02, 1.5988516e-02, 4.5882560e-02, 8.2342073e-02,\n",
       "       2.0199358e-01, 3.2516819e-01, 4.6778345e-01, 6.1221719e-01,\n",
       "       7.1154487e-01, 7.8971297e-01, 8.1466115e-01, 8.9042777e-01,\n",
       "       9.0713990e-01, 9.0999091e-01, 9.4785374e-01, 9.5591843e-01,\n",
       "       9.5740706e-01, 9.6443498e-01, 9.6830404e-01, 9.7335249e-01,\n",
       "       9.8437589e-01, 9.8506135e-01, 9.8676574e-01, 9.8693824e-01,\n",
       "       9.8948592e-01, 9.8996228e-01, 9.9412739e-01, 9.9432909e-01,\n",
       "       9.9470603e-01, 9.9507439e-01, 9.9556196e-01, 9.9568844e-01,\n",
       "       9.9583572e-01, 9.9589580e-01, 9.9606049e-01, 9.9630338e-01,\n",
       "       9.9640226e-01, 9.9699885e-01, 9.9709612e-01, 9.9728775e-01,\n",
       "       9.9737465e-01, 9.9743277e-01, 9.9753773e-01, 9.9759412e-01,\n",
       "       9.9762863e-01, 9.9765968e-01, 9.9769199e-01, 9.9772912e-01,\n",
       "       9.9776906e-01, 9.9782676e-01, 9.9785298e-01, 9.9789613e-01,\n",
       "       9.9795622e-01, 9.9799877e-01, 9.9809825e-01, 9.9812353e-01,\n",
       "       9.9815732e-01, 9.9822688e-01, 9.9828494e-01, 9.9830562e-01,\n",
       "       9.9838871e-01, 9.9853200e-01, 9.9858236e-01, 9.9863791e-01,\n",
       "       9.9865943e-01, 9.9868000e-01, 9.9874622e-01, 9.9878001e-01,\n",
       "       9.9881244e-01, 9.9884242e-01, 9.9885577e-01, 9.9891239e-01,\n",
       "       9.9893355e-01, 9.9897110e-01, 9.9903518e-01, 9.9930930e-01,\n",
       "       9.9937159e-01, 9.9940193e-01, 9.9942440e-01, 9.9945349e-01,\n",
       "       9.9946958e-01, 9.9949384e-01, 9.9950463e-01, 9.9952704e-01,\n",
       "       9.9954319e-01, 9.9955326e-01, 9.9961716e-01, 9.9964714e-01,\n",
       "       9.9966478e-01, 9.9968457e-01, 9.9970555e-01, 9.9971777e-01,\n",
       "       9.9974024e-01, 9.9975818e-01, 9.9977374e-01, 9.9978715e-01,\n",
       "       9.9983144e-01, 9.9985534e-01, 9.9986863e-01, 9.9989748e-01,\n",
       "       9.9993473e-01, 9.9996203e-01, 9.9999976e-01], dtype=float32)"
      ]
     },
     "execution_count": 62,
     "metadata": {},
     "output_type": "execute_result"
    }
   ],
   "source": [
    "np.cumsum(train_preds[0])"
   ]
  },
  {
   "cell_type": "code",
   "execution_count": 57,
   "id": "a1814695",
   "metadata": {},
   "outputs": [
    {
     "data": {
      "text/plain": [
       "0.013064509257674217"
      ]
     },
     "execution_count": 57,
     "metadata": {},
     "output_type": "execute_result"
    }
   ],
   "source": [
    "float(crps(y_train, train_preds))"
   ]
  },
  {
   "cell_type": "code",
   "execution_count": 58,
   "id": "6ad6a9ef",
   "metadata": {},
   "outputs": [
    {
     "data": {
      "text/plain": [
       "0.013194269500672817"
      ]
     },
     "execution_count": 58,
     "metadata": {},
     "output_type": "execute_result"
    }
   ],
   "source": [
    "float(crps(y_val, val_preds))"
   ]
  },
  {
   "cell_type": "code",
   "execution_count": 59,
   "id": "fad5018a",
   "metadata": {},
   "outputs": [
    {
     "data": {
      "text/plain": [
       "0.013321706093847752"
      ]
     },
     "execution_count": 59,
     "metadata": {},
     "output_type": "execute_result"
    }
   ],
   "source": [
    "float(crps(y_test, test_preds))"
   ]
  },
  {
   "cell_type": "code",
   "execution_count": null,
   "id": "88713690",
   "metadata": {},
   "outputs": [],
   "source": []
  }
 ],
 "metadata": {
  "kernelspec": {
   "display_name": "Python 3",
   "language": "python",
   "name": "python3"
  },
  "language_info": {
   "codemirror_mode": {
    "name": "ipython",
    "version": 3
   },
   "file_extension": ".py",
   "mimetype": "text/x-python",
   "name": "python",
   "nbconvert_exporter": "python",
   "pygments_lexer": "ipython3",
   "version": "3.8.8"
  }
 },
 "nbformat": 4,
 "nbformat_minor": 5
}
