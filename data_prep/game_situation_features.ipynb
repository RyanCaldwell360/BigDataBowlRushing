{
 "cells": [
  {
   "cell_type": "code",
   "execution_count": 1,
   "id": "1ce60929-c5eb-4511-aefe-33fc2e0faa36",
   "metadata": {},
   "outputs": [],
   "source": [
    "import numpy as np\n",
    "import pandas as pd\n",
    "import matplotlib.pyplot as plt"
   ]
  },
  {
   "cell_type": "markdown",
   "id": "021b28f7-2a80-4335-a848-517c2a0d135c",
   "metadata": {},
   "source": [
    "# Read in data"
   ]
  },
  {
   "cell_type": "code",
   "execution_count": 2,
   "id": "c0290ed9",
   "metadata": {},
   "outputs": [],
   "source": [
    "cols = ['GameId','PlayId','NflId','NflIdRusher','Down','Distance','YardsToTouchdown','Quarter','GameClock']"
   ]
  },
  {
   "cell_type": "code",
   "execution_count": 3,
   "id": "bf4b98b4-b84f-4eb1-a540-d08827306e42",
   "metadata": {},
   "outputs": [],
   "source": [
    "frames = pd.read_csv('../data/cleaned_train.csv', usecols=cols)"
   ]
  },
  {
   "cell_type": "code",
   "execution_count": 4,
   "id": "8f367805",
   "metadata": {},
   "outputs": [],
   "source": [
    "frames = frames.loc[frames.NflId == frames.NflIdRusher, cols].reset_index(drop=True)\n",
    "frames.drop(['NflId','NflIdRusher'], axis=1, inplace=True)"
   ]
  },
  {
   "cell_type": "code",
   "execution_count": 5,
   "id": "a1b1280a",
   "metadata": {},
   "outputs": [],
   "source": [
    "frames['GameClock'] = pd.to_datetime(frames['GameClock'], format='%M:%S:%f')\n",
    "frames['SecRemainingInQuarter'] = frames['GameClock'].apply(lambda x: x.minute*60 + x.second)\n",
    "frames.drop('GameClock', axis=1, inplace=True)"
   ]
  },
  {
   "cell_type": "code",
   "execution_count": 6,
   "id": "730332d2",
   "metadata": {},
   "outputs": [],
   "source": [
    "frames.to_csv('../data/game_situation.csv', header=True, index=False)"
   ]
  },
  {
   "cell_type": "code",
   "execution_count": null,
   "id": "9966b667",
   "metadata": {},
   "outputs": [],
   "source": []
  }
 ],
 "metadata": {
  "kernelspec": {
   "display_name": "Python 3",
   "language": "python",
   "name": "python3"
  },
  "language_info": {
   "codemirror_mode": {
    "name": "ipython",
    "version": 3
   },
   "file_extension": ".py",
   "mimetype": "text/x-python",
   "name": "python",
   "nbconvert_exporter": "python",
   "pygments_lexer": "ipython3",
   "version": "3.8.8"
  }
 },
 "nbformat": 4,
 "nbformat_minor": 5
}
