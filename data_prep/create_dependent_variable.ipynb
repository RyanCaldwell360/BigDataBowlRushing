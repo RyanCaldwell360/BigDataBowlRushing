{
 "cells": [
  {
   "cell_type": "code",
   "execution_count": 1,
   "id": "1ce60929-c5eb-4511-aefe-33fc2e0faa36",
   "metadata": {},
   "outputs": [],
   "source": [
    "import numpy as np\n",
    "import pandas as pd"
   ]
  },
  {
   "cell_type": "markdown",
   "id": "021b28f7-2a80-4335-a848-517c2a0d135c",
   "metadata": {},
   "source": [
    "# Read in data"
   ]
  },
  {
   "cell_type": "code",
   "execution_count": 2,
   "id": "bf4b98b4-b84f-4eb1-a540-d08827306e42",
   "metadata": {},
   "outputs": [],
   "source": [
    "yards = pd.read_csv('../data/cleaned_train.csv', usecols=['GameId','PlayId','Yards','YardsToTouchdown','YardsToSafety'])\\\n",
    "          .drop_duplicates()\\\n",
    "          .reset_index(drop=True)"
   ]
  },
  {
   "cell_type": "code",
   "execution_count": 3,
   "id": "8ddf4823-6af2-415b-8756-27875d7b0e3d",
   "metadata": {},
   "outputs": [
    {
     "data": {
      "text/plain": [
       "(31007, 5)"
      ]
     },
     "execution_count": 3,
     "metadata": {},
     "output_type": "execute_result"
    }
   ],
   "source": [
    "yards.shape"
   ]
  },
  {
   "cell_type": "code",
   "execution_count": 4,
   "id": "5e59d9f2-3d45-4551-82ae-5c42fa12d04d",
   "metadata": {},
   "outputs": [
    {
     "data": {
      "text/html": [
       "<div>\n",
       "<style scoped>\n",
       "    .dataframe tbody tr th:only-of-type {\n",
       "        vertical-align: middle;\n",
       "    }\n",
       "\n",
       "    .dataframe tbody tr th {\n",
       "        vertical-align: top;\n",
       "    }\n",
       "\n",
       "    .dataframe thead th {\n",
       "        text-align: right;\n",
       "    }\n",
       "</style>\n",
       "<table border=\"1\" class=\"dataframe\">\n",
       "  <thead>\n",
       "    <tr style=\"text-align: right;\">\n",
       "      <th></th>\n",
       "      <th>GameId</th>\n",
       "      <th>PlayId</th>\n",
       "      <th>Yards</th>\n",
       "      <th>YardsToTouchdown</th>\n",
       "      <th>YardsToSafety</th>\n",
       "    </tr>\n",
       "  </thead>\n",
       "  <tbody>\n",
       "    <tr>\n",
       "      <th>0</th>\n",
       "      <td>2017090700</td>\n",
       "      <td>20170907000118</td>\n",
       "      <td>8</td>\n",
       "      <td>65</td>\n",
       "      <td>35</td>\n",
       "    </tr>\n",
       "    <tr>\n",
       "      <th>1</th>\n",
       "      <td>2017090700</td>\n",
       "      <td>20170907000139</td>\n",
       "      <td>3</td>\n",
       "      <td>57</td>\n",
       "      <td>43</td>\n",
       "    </tr>\n",
       "    <tr>\n",
       "      <th>2</th>\n",
       "      <td>2017090700</td>\n",
       "      <td>20170907000189</td>\n",
       "      <td>5</td>\n",
       "      <td>35</td>\n",
       "      <td>65</td>\n",
       "    </tr>\n",
       "    <tr>\n",
       "      <th>3</th>\n",
       "      <td>2017090700</td>\n",
       "      <td>20170907000345</td>\n",
       "      <td>2</td>\n",
       "      <td>2</td>\n",
       "      <td>98</td>\n",
       "    </tr>\n",
       "    <tr>\n",
       "      <th>4</th>\n",
       "      <td>2017090700</td>\n",
       "      <td>20170907000395</td>\n",
       "      <td>7</td>\n",
       "      <td>75</td>\n",
       "      <td>25</td>\n",
       "    </tr>\n",
       "  </tbody>\n",
       "</table>\n",
       "</div>"
      ],
      "text/plain": [
       "       GameId          PlayId  Yards  YardsToTouchdown  YardsToSafety\n",
       "0  2017090700  20170907000118      8                65             35\n",
       "1  2017090700  20170907000139      3                57             43\n",
       "2  2017090700  20170907000189      5                35             65\n",
       "3  2017090700  20170907000345      2                 2             98\n",
       "4  2017090700  20170907000395      7                75             25"
      ]
     },
     "execution_count": 4,
     "metadata": {},
     "output_type": "execute_result"
    }
   ],
   "source": [
    "yards.head()"
   ]
  },
  {
   "cell_type": "markdown",
   "id": "a628e773",
   "metadata": {},
   "source": [
    "# Explore Capping Range of Potential Gains/Losses"
   ]
  },
  {
   "cell_type": "code",
   "execution_count": 5,
   "id": "732021dc",
   "metadata": {},
   "outputs": [
    {
     "data": {
      "text/html": [
       "<div>\n",
       "<style scoped>\n",
       "    .dataframe tbody tr th:only-of-type {\n",
       "        vertical-align: middle;\n",
       "    }\n",
       "\n",
       "    .dataframe tbody tr th {\n",
       "        vertical-align: top;\n",
       "    }\n",
       "\n",
       "    .dataframe thead th {\n",
       "        text-align: right;\n",
       "    }\n",
       "</style>\n",
       "<table border=\"1\" class=\"dataframe\">\n",
       "  <thead>\n",
       "    <tr style=\"text-align: right;\">\n",
       "      <th></th>\n",
       "      <th>Yards</th>\n",
       "      <th>YardsToTouchdown</th>\n",
       "      <th>YardsToSafety</th>\n",
       "    </tr>\n",
       "  </thead>\n",
       "  <tbody>\n",
       "    <tr>\n",
       "      <th>count</th>\n",
       "      <td>31007.000000</td>\n",
       "      <td>31007.000000</td>\n",
       "      <td>31007.000000</td>\n",
       "    </tr>\n",
       "    <tr>\n",
       "      <th>mean</th>\n",
       "      <td>4.227626</td>\n",
       "      <td>51.671945</td>\n",
       "      <td>48.328055</td>\n",
       "    </tr>\n",
       "    <tr>\n",
       "      <th>std</th>\n",
       "      <td>6.449966</td>\n",
       "      <td>25.242847</td>\n",
       "      <td>25.242847</td>\n",
       "    </tr>\n",
       "    <tr>\n",
       "      <th>min</th>\n",
       "      <td>-15.000000</td>\n",
       "      <td>1.000000</td>\n",
       "      <td>1.000000</td>\n",
       "    </tr>\n",
       "    <tr>\n",
       "      <th>25%</th>\n",
       "      <td>1.000000</td>\n",
       "      <td>32.000000</td>\n",
       "      <td>26.000000</td>\n",
       "    </tr>\n",
       "    <tr>\n",
       "      <th>50%</th>\n",
       "      <td>3.000000</td>\n",
       "      <td>56.000000</td>\n",
       "      <td>44.000000</td>\n",
       "    </tr>\n",
       "    <tr>\n",
       "      <th>75%</th>\n",
       "      <td>6.000000</td>\n",
       "      <td>74.000000</td>\n",
       "      <td>68.000000</td>\n",
       "    </tr>\n",
       "    <tr>\n",
       "      <th>max</th>\n",
       "      <td>99.000000</td>\n",
       "      <td>99.000000</td>\n",
       "      <td>99.000000</td>\n",
       "    </tr>\n",
       "  </tbody>\n",
       "</table>\n",
       "</div>"
      ],
      "text/plain": [
       "              Yards  YardsToTouchdown  YardsToSafety\n",
       "count  31007.000000      31007.000000   31007.000000\n",
       "mean       4.227626         51.671945      48.328055\n",
       "std        6.449966         25.242847      25.242847\n",
       "min      -15.000000          1.000000       1.000000\n",
       "25%        1.000000         32.000000      26.000000\n",
       "50%        3.000000         56.000000      44.000000\n",
       "75%        6.000000         74.000000      68.000000\n",
       "max       99.000000         99.000000      99.000000"
      ]
     },
     "execution_count": 5,
     "metadata": {},
     "output_type": "execute_result"
    }
   ],
   "source": [
    "yards[['Yards','YardsToTouchdown','YardsToSafety']].describe()"
   ]
  },
  {
   "cell_type": "code",
   "execution_count": 6,
   "id": "7412d09c",
   "metadata": {},
   "outputs": [
    {
     "data": {
      "text/plain": [
       "[-4.0, -2.0, -1.0, 1.0, 3.0, 6.0, 10.0, 14.0, 28.0]"
      ]
     },
     "execution_count": 6,
     "metadata": {},
     "output_type": "execute_result"
    }
   ],
   "source": [
    "percentiles_of_interest = [1, 5, 10, 25, 50, 75, 90, 95, 99]\n",
    "percentiles = [np.percentile(yards.Yards, x) for x in percentiles_of_interest]\n",
    "percentiles"
   ]
  },
  {
   "cell_type": "markdown",
   "id": "551e5afb",
   "metadata": {},
   "source": [
    "It seems to me we should be able to cap our predicted range from a 5 yard loss to a 30 yard gain. That is we only have to predict for 36 yards worth of gain/loss instead of 198 (-99 to +99). On top of that we have the potential to cap based on where on the field the LOS is. If the LOS is at their own 1, then we know they can at max lose 1 yard on the rush, and gain the max 30 capped yards instead of 99.\n",
    "\n",
    "Now we have to change our outcome range from index 0 - 198, to 0 - 35. 0 will represent a -5 yard rush and 35 will represent a 30 yard gain."
   ]
  },
  {
   "cell_type": "code",
   "execution_count": 7,
   "id": "4859a3ca",
   "metadata": {},
   "outputs": [],
   "source": [
    "min_idx = 71\n",
    "max_idx = 150"
   ]
  },
  {
   "cell_type": "code",
   "execution_count": 8,
   "id": "783adaf1",
   "metadata": {},
   "outputs": [],
   "source": [
    "yards['YardIndex'] = yards['Yards'].apply(lambda x: x + 99)\n",
    "yards['YardIndexClipped'] = yards['YardIndex'].apply(lambda x: min_idx if x < min_idx else max_idx if x > max_idx else x)\n",
    "yards['UnclippedYardIndex'] = yards['Yards'].apply(lambda x: x + 99)"
   ]
  },
  {
   "cell_type": "code",
   "execution_count": 9,
   "id": "97011793",
   "metadata": {},
   "outputs": [
    {
     "data": {
      "text/html": [
       "<div>\n",
       "<style scoped>\n",
       "    .dataframe tbody tr th:only-of-type {\n",
       "        vertical-align: middle;\n",
       "    }\n",
       "\n",
       "    .dataframe tbody tr th {\n",
       "        vertical-align: top;\n",
       "    }\n",
       "\n",
       "    .dataframe thead th {\n",
       "        text-align: right;\n",
       "    }\n",
       "</style>\n",
       "<table border=\"1\" class=\"dataframe\">\n",
       "  <thead>\n",
       "    <tr style=\"text-align: right;\">\n",
       "      <th></th>\n",
       "      <th>GameId</th>\n",
       "      <th>PlayId</th>\n",
       "      <th>Yards</th>\n",
       "      <th>YardsToTouchdown</th>\n",
       "      <th>YardsToSafety</th>\n",
       "      <th>YardIndex</th>\n",
       "      <th>YardIndexClipped</th>\n",
       "      <th>UnclippedYardIndex</th>\n",
       "    </tr>\n",
       "  </thead>\n",
       "  <tbody>\n",
       "    <tr>\n",
       "      <th>0</th>\n",
       "      <td>2017090700</td>\n",
       "      <td>20170907000118</td>\n",
       "      <td>8</td>\n",
       "      <td>65</td>\n",
       "      <td>35</td>\n",
       "      <td>107</td>\n",
       "      <td>107</td>\n",
       "      <td>107</td>\n",
       "    </tr>\n",
       "    <tr>\n",
       "      <th>1</th>\n",
       "      <td>2017090700</td>\n",
       "      <td>20170907000139</td>\n",
       "      <td>3</td>\n",
       "      <td>57</td>\n",
       "      <td>43</td>\n",
       "      <td>102</td>\n",
       "      <td>102</td>\n",
       "      <td>102</td>\n",
       "    </tr>\n",
       "    <tr>\n",
       "      <th>2</th>\n",
       "      <td>2017090700</td>\n",
       "      <td>20170907000189</td>\n",
       "      <td>5</td>\n",
       "      <td>35</td>\n",
       "      <td>65</td>\n",
       "      <td>104</td>\n",
       "      <td>104</td>\n",
       "      <td>104</td>\n",
       "    </tr>\n",
       "    <tr>\n",
       "      <th>3</th>\n",
       "      <td>2017090700</td>\n",
       "      <td>20170907000345</td>\n",
       "      <td>2</td>\n",
       "      <td>2</td>\n",
       "      <td>98</td>\n",
       "      <td>101</td>\n",
       "      <td>101</td>\n",
       "      <td>101</td>\n",
       "    </tr>\n",
       "    <tr>\n",
       "      <th>4</th>\n",
       "      <td>2017090700</td>\n",
       "      <td>20170907000395</td>\n",
       "      <td>7</td>\n",
       "      <td>75</td>\n",
       "      <td>25</td>\n",
       "      <td>106</td>\n",
       "      <td>106</td>\n",
       "      <td>106</td>\n",
       "    </tr>\n",
       "  </tbody>\n",
       "</table>\n",
       "</div>"
      ],
      "text/plain": [
       "       GameId          PlayId  Yards  YardsToTouchdown  YardsToSafety  \\\n",
       "0  2017090700  20170907000118      8                65             35   \n",
       "1  2017090700  20170907000139      3                57             43   \n",
       "2  2017090700  20170907000189      5                35             65   \n",
       "3  2017090700  20170907000345      2                 2             98   \n",
       "4  2017090700  20170907000395      7                75             25   \n",
       "\n",
       "   YardIndex  YardIndexClipped  UnclippedYardIndex  \n",
       "0        107               107                 107  \n",
       "1        102               102                 102  \n",
       "2        104               104                 104  \n",
       "3        101               101                 101  \n",
       "4        106               106                 106  "
      ]
     },
     "execution_count": 9,
     "metadata": {},
     "output_type": "execute_result"
    }
   ],
   "source": [
    "yards.head()"
   ]
  },
  {
   "cell_type": "code",
   "execution_count": 10,
   "id": "a69872de",
   "metadata": {},
   "outputs": [
    {
     "name": "stdout",
     "output_type": "stream",
     "text": [
      "max yardIndex:  198\n",
      "max yardIndexClipped:  150\n",
      "min yardIndex:  84\n",
      "min yardIndexClipped:  84\n"
     ]
    }
   ],
   "source": [
    "print('max yardIndex: ', yards.YardIndex.max())\n",
    "print('max yardIndexClipped: ', yards.YardIndexClipped.max())\n",
    "print('min yardIndex: ', yards.YardIndex.min())\n",
    "print('min yardIndexClipped: ', yards.YardIndexClipped.min())"
   ]
  },
  {
   "cell_type": "markdown",
   "id": "e786bf9c-22b1-4e5c-adb4-8c42fe4b4a33",
   "metadata": {},
   "source": [
    "# Write Play Outcomes to Disk"
   ]
  },
  {
   "cell_type": "code",
   "execution_count": 11,
   "id": "1ea91227-4138-4738-9cd8-852b3d66b0c2",
   "metadata": {},
   "outputs": [],
   "source": [
    "yards.to_csv('../data/yard_outcomes.csv', header=True, index=False)"
   ]
  },
  {
   "cell_type": "code",
   "execution_count": null,
   "id": "5c3bed93",
   "metadata": {},
   "outputs": [],
   "source": []
  }
 ],
 "metadata": {
  "kernelspec": {
   "display_name": "Python 3",
   "language": "python",
   "name": "python3"
  },
  "language_info": {
   "codemirror_mode": {
    "name": "ipython",
    "version": 3
   },
   "file_extension": ".py",
   "mimetype": "text/x-python",
   "name": "python",
   "nbconvert_exporter": "python",
   "pygments_lexer": "ipython3",
   "version": "3.8.8"
  }
 },
 "nbformat": 4,
 "nbformat_minor": 5
}
