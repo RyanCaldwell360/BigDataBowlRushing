{
 "cells": [
  {
   "cell_type": "code",
   "execution_count": 1,
   "id": "1ce60929-c5eb-4511-aefe-33fc2e0faa36",
   "metadata": {},
   "outputs": [],
   "source": [
    "import math\n",
    "import numpy as np\n",
    "import pandas as pd\n",
    "import matplotlib.pyplot as plt\n",
    "from sklearn.neighbors import KDTree"
   ]
  },
  {
   "cell_type": "code",
   "execution_count": 2,
   "id": "13c7a4a8-19db-4f3b-9a50-2c5caebb88c9",
   "metadata": {},
   "outputs": [],
   "source": [
    "pd.set_option(\"display.max_columns\", None)"
   ]
  },
  {
   "cell_type": "markdown",
   "id": "021b28f7-2a80-4335-a848-517c2a0d135c",
   "metadata": {},
   "source": [
    "# Read in data"
   ]
  },
  {
   "cell_type": "code",
   "execution_count": 3,
   "id": "bf4b98b4-b84f-4eb1-a540-d08827306e42",
   "metadata": {},
   "outputs": [],
   "source": [
    "frames = pd.read_csv('../data/train.csv', usecols=['GameId','HomeTeamAbbr','PlayId','Team','PossessionTeam','FieldPosition','X','Y','S','A','Dis','Dir','NflId','DisplayName','Season','YardLine','NflIdRusher','PlayDirection','Yards'])"
   ]
  },
  {
   "cell_type": "code",
   "execution_count": 4,
   "id": "8ddf4823-6af2-415b-8756-27875d7b0e3d",
   "metadata": {},
   "outputs": [
    {
     "data": {
      "text/plain": [
       "(682154, 19)"
      ]
     },
     "execution_count": 4,
     "metadata": {},
     "output_type": "execute_result"
    }
   ],
   "source": [
    "frames.shape"
   ]
  },
  {
   "cell_type": "code",
   "execution_count": 5,
   "id": "5e59d9f2-3d45-4551-82ae-5c42fa12d04d",
   "metadata": {},
   "outputs": [
    {
     "data": {
      "text/html": [
       "<div>\n",
       "<style scoped>\n",
       "    .dataframe tbody tr th:only-of-type {\n",
       "        vertical-align: middle;\n",
       "    }\n",
       "\n",
       "    .dataframe tbody tr th {\n",
       "        vertical-align: top;\n",
       "    }\n",
       "\n",
       "    .dataframe thead th {\n",
       "        text-align: right;\n",
       "    }\n",
       "</style>\n",
       "<table border=\"1\" class=\"dataframe\">\n",
       "  <thead>\n",
       "    <tr style=\"text-align: right;\">\n",
       "      <th></th>\n",
       "      <th>GameId</th>\n",
       "      <th>PlayId</th>\n",
       "      <th>Team</th>\n",
       "      <th>X</th>\n",
       "      <th>Y</th>\n",
       "      <th>S</th>\n",
       "      <th>A</th>\n",
       "      <th>Dis</th>\n",
       "      <th>Dir</th>\n",
       "      <th>NflId</th>\n",
       "      <th>DisplayName</th>\n",
       "      <th>Season</th>\n",
       "      <th>YardLine</th>\n",
       "      <th>PossessionTeam</th>\n",
       "      <th>FieldPosition</th>\n",
       "      <th>NflIdRusher</th>\n",
       "      <th>PlayDirection</th>\n",
       "      <th>Yards</th>\n",
       "      <th>HomeTeamAbbr</th>\n",
       "    </tr>\n",
       "  </thead>\n",
       "  <tbody>\n",
       "    <tr>\n",
       "      <th>0</th>\n",
       "      <td>2017090700</td>\n",
       "      <td>20170907000118</td>\n",
       "      <td>away</td>\n",
       "      <td>73.91</td>\n",
       "      <td>34.84</td>\n",
       "      <td>1.69</td>\n",
       "      <td>1.13</td>\n",
       "      <td>0.40</td>\n",
       "      <td>177.18</td>\n",
       "      <td>496723</td>\n",
       "      <td>Eric Berry</td>\n",
       "      <td>2017</td>\n",
       "      <td>35</td>\n",
       "      <td>NE</td>\n",
       "      <td>NE</td>\n",
       "      <td>2543773</td>\n",
       "      <td>left</td>\n",
       "      <td>8</td>\n",
       "      <td>NE</td>\n",
       "    </tr>\n",
       "    <tr>\n",
       "      <th>1</th>\n",
       "      <td>2017090700</td>\n",
       "      <td>20170907000118</td>\n",
       "      <td>away</td>\n",
       "      <td>74.67</td>\n",
       "      <td>32.64</td>\n",
       "      <td>0.42</td>\n",
       "      <td>1.35</td>\n",
       "      <td>0.01</td>\n",
       "      <td>198.70</td>\n",
       "      <td>2495116</td>\n",
       "      <td>Allen Bailey</td>\n",
       "      <td>2017</td>\n",
       "      <td>35</td>\n",
       "      <td>NE</td>\n",
       "      <td>NE</td>\n",
       "      <td>2543773</td>\n",
       "      <td>left</td>\n",
       "      <td>8</td>\n",
       "      <td>NE</td>\n",
       "    </tr>\n",
       "    <tr>\n",
       "      <th>2</th>\n",
       "      <td>2017090700</td>\n",
       "      <td>20170907000118</td>\n",
       "      <td>away</td>\n",
       "      <td>74.00</td>\n",
       "      <td>33.20</td>\n",
       "      <td>1.22</td>\n",
       "      <td>0.59</td>\n",
       "      <td>0.31</td>\n",
       "      <td>202.73</td>\n",
       "      <td>2495493</td>\n",
       "      <td>Justin Houston</td>\n",
       "      <td>2017</td>\n",
       "      <td>35</td>\n",
       "      <td>NE</td>\n",
       "      <td>NE</td>\n",
       "      <td>2543773</td>\n",
       "      <td>left</td>\n",
       "      <td>8</td>\n",
       "      <td>NE</td>\n",
       "    </tr>\n",
       "    <tr>\n",
       "      <th>3</th>\n",
       "      <td>2017090700</td>\n",
       "      <td>20170907000118</td>\n",
       "      <td>away</td>\n",
       "      <td>71.46</td>\n",
       "      <td>27.70</td>\n",
       "      <td>0.42</td>\n",
       "      <td>0.54</td>\n",
       "      <td>0.02</td>\n",
       "      <td>105.64</td>\n",
       "      <td>2506353</td>\n",
       "      <td>Derrick Johnson</td>\n",
       "      <td>2017</td>\n",
       "      <td>35</td>\n",
       "      <td>NE</td>\n",
       "      <td>NE</td>\n",
       "      <td>2543773</td>\n",
       "      <td>left</td>\n",
       "      <td>8</td>\n",
       "      <td>NE</td>\n",
       "    </tr>\n",
       "    <tr>\n",
       "      <th>4</th>\n",
       "      <td>2017090700</td>\n",
       "      <td>20170907000118</td>\n",
       "      <td>away</td>\n",
       "      <td>69.32</td>\n",
       "      <td>35.42</td>\n",
       "      <td>1.82</td>\n",
       "      <td>2.43</td>\n",
       "      <td>0.16</td>\n",
       "      <td>164.31</td>\n",
       "      <td>2530794</td>\n",
       "      <td>Ron Parker</td>\n",
       "      <td>2017</td>\n",
       "      <td>35</td>\n",
       "      <td>NE</td>\n",
       "      <td>NE</td>\n",
       "      <td>2543773</td>\n",
       "      <td>left</td>\n",
       "      <td>8</td>\n",
       "      <td>NE</td>\n",
       "    </tr>\n",
       "  </tbody>\n",
       "</table>\n",
       "</div>"
      ],
      "text/plain": [
       "       GameId          PlayId  Team      X      Y     S     A   Dis     Dir  \\\n",
       "0  2017090700  20170907000118  away  73.91  34.84  1.69  1.13  0.40  177.18   \n",
       "1  2017090700  20170907000118  away  74.67  32.64  0.42  1.35  0.01  198.70   \n",
       "2  2017090700  20170907000118  away  74.00  33.20  1.22  0.59  0.31  202.73   \n",
       "3  2017090700  20170907000118  away  71.46  27.70  0.42  0.54  0.02  105.64   \n",
       "4  2017090700  20170907000118  away  69.32  35.42  1.82  2.43  0.16  164.31   \n",
       "\n",
       "     NflId      DisplayName  Season  YardLine PossessionTeam FieldPosition  \\\n",
       "0   496723       Eric Berry    2017        35             NE            NE   \n",
       "1  2495116     Allen Bailey    2017        35             NE            NE   \n",
       "2  2495493   Justin Houston    2017        35             NE            NE   \n",
       "3  2506353  Derrick Johnson    2017        35             NE            NE   \n",
       "4  2530794       Ron Parker    2017        35             NE            NE   \n",
       "\n",
       "   NflIdRusher PlayDirection  Yards HomeTeamAbbr  \n",
       "0      2543773          left      8           NE  \n",
       "1      2543773          left      8           NE  \n",
       "2      2543773          left      8           NE  \n",
       "3      2543773          left      8           NE  \n",
       "4      2543773          left      8           NE  "
      ]
     },
     "execution_count": 5,
     "metadata": {},
     "output_type": "execute_result"
    }
   ],
   "source": [
    "frames.head()"
   ]
  },
  {
   "cell_type": "markdown",
   "id": "ab37b3fb-b3cf-49cb-8eb4-81e10a1bcbb1",
   "metadata": {},
   "source": [
    "# Transform Data"
   ]
  },
  {
   "cell_type": "code",
   "execution_count": 6,
   "id": "1fac9712-ad6e-4a0b-abdb-d0fc1496559f",
   "metadata": {},
   "outputs": [],
   "source": [
    "map_abbr = {'ARI': 'ARZ', 'BAL': 'BLT', 'CLE': 'CLV', 'HOU': 'HST'}\n",
    "for abb in frames['PossessionTeam'].unique():\n",
    "    map_abbr[abb] = abb"
   ]
  },
  {
   "cell_type": "code",
   "execution_count": 7,
   "id": "23eb4be9-694b-4b97-a85a-b0fa8dc39efc",
   "metadata": {},
   "outputs": [],
   "source": [
    "frames['PossessionTeam'] = frames['PossessionTeam'].map(map_abbr)\n",
    "frames['HomeTeamAbbr'] = frames['HomeTeamAbbr'].map(map_abbr)"
   ]
  },
  {
   "cell_type": "code",
   "execution_count": 8,
   "id": "c283176a-e8fa-407e-be44-9a935d1fd6ae",
   "metadata": {},
   "outputs": [],
   "source": [
    "frames['IsRusher'] = (frames['NflId'] == frames['NflIdRusher']).astype(int)"
   ]
  },
  {
   "cell_type": "code",
   "execution_count": 9,
   "id": "507fa588-74cb-411a-8e16-2d0cee59902f",
   "metadata": {},
   "outputs": [],
   "source": [
    "def touchdown_distance(row):\n",
    "    return (100 - row['YardLine']) if (row['PossessionTeam'] == row['FieldPosition']) else row['YardLine']\n",
    "    \n",
    "frames['YardsToTouchdown'] = frames.apply(touchdown_distance, axis=1)\n",
    "frames.drop('YardLine', axis=1, inplace=True)"
   ]
  },
  {
   "cell_type": "code",
   "execution_count": 10,
   "id": "52901dc4-2eef-4483-a3fe-8e5e94f8fc56",
   "metadata": {},
   "outputs": [],
   "source": [
    "frames.loc[frames.Season == 2017, 'S'] = 10*frames.loc[frames.Season == 2017,'Dis']\n",
    "frames.drop('Dis', axis=1, inplace=True)"
   ]
  },
  {
   "cell_type": "code",
   "execution_count": 11,
   "id": "a5efe158-7d55-4d2d-b8bc-6ff3917720c8",
   "metadata": {},
   "outputs": [],
   "source": [
    "def is_offensive_player(team, poss_team, home_team):\n",
    "    if team == 'away':\n",
    "        if poss_team != home_team:\n",
    "            return 1\n",
    "        else:\n",
    "            return 0\n",
    "    else:\n",
    "        if poss_team == home_team:\n",
    "            return 1\n",
    "        else:\n",
    "            return 0\n",
    "\n",
    "frames['OffensivePlayer'] = frames[['Team','PossessionTeam','HomeTeamAbbr']].apply(lambda x: is_offensive_player(x[0],x[1],x[2]), axis=1) "
   ]
  },
  {
   "cell_type": "code",
   "execution_count": 12,
   "id": "b4a927fe-ef13-4882-aa5a-1992992e1669",
   "metadata": {},
   "outputs": [
    {
     "data": {
      "image/png": "[encoded data removed]",
      "text/plain": [
       "<Figure size 432x288 with 1 Axes>"
      ]
     },
     "metadata": {
      "needs_background": "light"
     },
     "output_type": "display_data"
    },
    {
     "data": {
      "image/png": "[encoded data removed]",
      "text/plain": [
       "<Figure size 432x288 with 1 Axes>"
      ]
     },
     "metadata": {
      "needs_background": "light"
     },
     "output_type": "display_data"
    }
   ],
   "source": [
    "frames['PlayLeft'] = (frames['PlayDirection'] == 'left').astype(int)\n",
    "\n",
    "# the field is 120 yards in the x direction and 53.3 in the y direction\n",
    "# the lower left corner is (0,0)\n",
    "# the lower right corner is (120,0)\n",
    "# the upper left corner is (0,53.3)\n",
    "# the upper right corner is (120,53.3)\n",
    "# if a play is going left we want to reorient to go right\n",
    "# basically all of our plays should be going in the same direction\n",
    "# changing up X and Y is rather simple as we just flip our coordinates\n",
    "# for example, if a play is going left and the X is at 80 that just means\n",
    "# we need to reorient the play right at the 40 yard line (120 - 80 = 40)\n",
    "# similarly done across the field with regard to it being 53.3 yards wide\n",
    "frames['X_std'] = frames['X']\n",
    "frames.loc[frames.PlayLeft == 1, 'X_std'] = 120 - frames.loc[frames.PlayLeft == 1, 'X']\n",
    "\n",
    "frames['Y_std'] = frames['Y']\n",
    "frames.loc[frames.PlayLeft == 1, 'Y_std'] = 53.3 - frames.loc[frames.PlayLeft == 1, 'Y']\n",
    "\n",
    "# direction is a bit more complicated\n",
    "# it's a little easier to think about it in terms of\n",
    "# a rusher going up the field vs backwards and left vs right\n",
    "# we are making sure all plays are oriented from left to right\n",
    "# so we have to convert the 0-360 degree orientation of plays\n",
    "# going left to correspond to the newly flipped orientation going right.\n",
    "\n",
    "# For plays going left we have to add 180 degrees to the Dir field for rushes going backwards\n",
    "# and subtract 180 degrees to the Dir field for plays going forwards\n",
    "# As an example, if a play is going left and the rusher runs backwards to his right at 45 degrees\n",
    "# that needs to get converted from 45 degrees to 225 degrees. This corresponds to a rusher going\n",
    "# backwards and to his right in the orientation going from left to right down the field.\n",
    "# On the other hand, for a play going left and the rusher going forward and to his left at 225 degrees\n",
    "# needs to get converted to 45 degrees to mark the new orientation going forward and left in the new rightly direction.\n",
    "frames.loc[(frames.PlayLeft == 1) & (frames.Dir < 180), 'Dir_std'] = frames.Dir + 180\n",
    "frames.loc[(frames.PlayLeft == 1) & (frames.Dir >= 180), 'Dir_std'] = frames.Dir - 180\n",
    "# plays going right don't change direction orientation\n",
    "frames.loc[frames.PlayLeft == 0, 'Dir_std'] = frames.Dir\n",
    "# we need to fill in the 28 missing Dir records\n",
    "frames['Dir_std'] = frames['Dir_std'].fillna(np.mean(frames['Dir_std']))\n",
    "\n",
    "# I want to explore a system for linerally relating the direction\n",
    "# to some sort of numeric embedding. I came up with a -100 to 100\n",
    "# embedding where a runner moving directly backwards (Dir of 270 degrees)\n",
    "# receives an embedding of -100 and a rusher moving directly forward (Dir of 90 degrees)\n",
    "# receives an embedding of +100. The embedding of 0 represents a rusher either moving\n",
    "# directly left or right, but not backwards or forwards (Dir of 0, 180 or 360 degrees)\n",
    "# In this system a rusher moving slightly forward to the left is measured equally\n",
    "# as a rusher moving slightly forward to the right. So we need to project\n",
    "# 360 to 180, 315 to 225 and everything between.\n",
    "# The same goes for projecting 0 to 180, 45 to 135 and everything between.\n",
    "def direction_projection(d):\n",
    "    if d > 270:\n",
    "        return 540 - d\n",
    "    elif (d >= 90) and (d <= 270):\n",
    "        return d\n",
    "    elif d < 90:\n",
    "        return 180 - d\n",
    "    else:\n",
    "        return None\n",
    "\n",
    "# Now we have a projection with a range of 90 to 270 inclusive and \n",
    "# can transform it in the range from -100 to +100 inclusive where\n",
    "# negative values represent rushers moving backwards and \n",
    "# positive values represent rushers moving forwards.\n",
    "def direction_transformer(d):\n",
    "    if d < 90:\n",
    "        return d/0.90\n",
    "    elif d < 270:\n",
    "        return (180 - d)/0.90\n",
    "    elif d <= 360:\n",
    "        return (d - 360)/0.90\n",
    "    else:\n",
    "        return None\n",
    "    \n",
    "frames['Dir_projected'] = frames['Dir_std'].apply(lambda x: direction_projection(x))\n",
    "frames['Dir_scaled'] = frames['Dir_projected'].apply(lambda x: direction_transformer(x))\n",
    "\n",
    "plt.scatter(frames.Dir_std, frames.Dir_projected)\n",
    "plt.xlabel('Direction')\n",
    "plt.ylabel('Projection')\n",
    "plt.show()\n",
    "\n",
    "plt.scatter(frames.Dir_projected, frames.Dir_scaled)\n",
    "plt.xlabel('Projection')\n",
    "plt.ylabel('Scaled Embedding')\n",
    "plt.show()"
   ]
  },
  {
   "cell_type": "markdown",
   "id": "ddc56fc6-1202-4e61-8905-e6d3474c1e8e",
   "metadata": {},
   "source": [
    "# Create Features"
   ]
  },
  {
   "cell_type": "markdown",
   "id": "7916f755-ef21-41ba-ac28-cd1db4ea2b69",
   "metadata": {},
   "source": [
    "### KNN Yard Features\n",
    "\n",
    "I will build a KD-Tree on rusher features and identify most similar other rushing attempts based on features. I will then extract yard information from these most similar attempts as new features."
   ]
  },
  {
   "cell_type": "code",
   "execution_count": 13,
   "id": "fee93360-53c0-446f-8134-fdd8c49504be",
   "metadata": {},
   "outputs": [],
   "source": [
    "rusher_X = frames[frames['IsRusher'] == 1][['GameId','PlayId','X_std','Y_std','S','A','Dir_scaled','YardsToTouchdown','Yards']].reset_index(drop=True)"
   ]
  },
  {
   "cell_type": "code",
   "execution_count": 14,
   "id": "13d88e3a-61bd-4f2c-bd59-c07af8f171ae",
   "metadata": {},
   "outputs": [],
   "source": [
    "tree = KDTree(rusher_X.iloc[:, 2:-1])"
   ]
  },
  {
   "cell_type": "code",
   "execution_count": 15,
   "id": "a9d95def-7464-44e8-8047-f823d05c65d2",
   "metadata": {},
   "outputs": [],
   "source": [
    "dist, ind = tree.query(rusher_X.iloc[:, 2:-1], k=10)"
   ]
  },
  {
   "cell_type": "code",
   "execution_count": 16,
   "id": "cdb86978-57ac-4c87-b506-d4cf88b18759",
   "metadata": {},
   "outputs": [],
   "source": [
    "mins = []\n",
    "avgs = []\n",
    "maxs = []\n",
    "stds = []\n",
    "for indx, row in rusher_X.iterrows():\n",
    "    similar_records = rusher_X.iloc[ind[indx][1:], :]\n",
    "    \n",
    "    min_yards = similar_records.Yards.min()\n",
    "    avg_yards = similar_records.Yards.mean()\n",
    "    max_yards = similar_records.Yards.max()\n",
    "    std_yards = similar_records.Yards.std()\n",
    "    \n",
    "    mins.append(min_yards)\n",
    "    avgs.append(avg_yards)\n",
    "    maxs.append(max_yards)\n",
    "    stds.append(std_yards)"
   ]
  },
  {
   "cell_type": "code",
   "execution_count": 17,
   "id": "bfd266c3-1b9f-4cb4-a9a3-8c9f3509eaac",
   "metadata": {},
   "outputs": [],
   "source": [
    "rusher_X['min_similar_yards'] = mins\n",
    "rusher_X['avg_similar_yards'] = avgs\n",
    "rusher_X['max_similar_yards'] = maxs\n",
    "rusher_X['std_similar_yards'] = stds"
   ]
  },
  {
   "cell_type": "code",
   "execution_count": 18,
   "id": "9bdeb719-fe58-45e4-9a05-00b2609afd1d",
   "metadata": {},
   "outputs": [],
   "source": [
    "rusher_X.drop('Yards', axis=1, inplace=True)"
   ]
  },
  {
   "cell_type": "code",
   "execution_count": 19,
   "id": "f8bbbc44-fc83-4f38-a33a-ee2e1de6baea",
   "metadata": {},
   "outputs": [
    {
     "data": {
      "text/html": [
       "<div>\n",
       "<style scoped>\n",
       "    .dataframe tbody tr th:only-of-type {\n",
       "        vertical-align: middle;\n",
       "    }\n",
       "\n",
       "    .dataframe tbody tr th {\n",
       "        vertical-align: top;\n",
       "    }\n",
       "\n",
       "    .dataframe thead th {\n",
       "        text-align: right;\n",
       "    }\n",
       "</style>\n",
       "<table border=\"1\" class=\"dataframe\">\n",
       "  <thead>\n",
       "    <tr style=\"text-align: right;\">\n",
       "      <th></th>\n",
       "      <th>GameId</th>\n",
       "      <th>PlayId</th>\n",
       "      <th>X_std</th>\n",
       "      <th>Y_std</th>\n",
       "      <th>S</th>\n",
       "      <th>A</th>\n",
       "      <th>Dir_scaled</th>\n",
       "      <th>YardsToTouchdown</th>\n",
       "      <th>min_similar_yards</th>\n",
       "      <th>avg_similar_yards</th>\n",
       "      <th>max_similar_yards</th>\n",
       "      <th>std_similar_yards</th>\n",
       "    </tr>\n",
       "  </thead>\n",
       "  <tbody>\n",
       "    <tr>\n",
       "      <th>0</th>\n",
       "      <td>2017090700</td>\n",
       "      <td>20170907000118</td>\n",
       "      <td>41.25</td>\n",
       "      <td>22.77</td>\n",
       "      <td>3.8</td>\n",
       "      <td>3.35</td>\n",
       "      <td>73.044444</td>\n",
       "      <td>65</td>\n",
       "      <td>1</td>\n",
       "      <td>3.555556</td>\n",
       "      <td>6</td>\n",
       "      <td>1.740051</td>\n",
       "    </tr>\n",
       "    <tr>\n",
       "      <th>1</th>\n",
       "      <td>2017090700</td>\n",
       "      <td>20170907000139</td>\n",
       "      <td>48.93</td>\n",
       "      <td>26.14</td>\n",
       "      <td>3.4</td>\n",
       "      <td>2.41</td>\n",
       "      <td>53.111111</td>\n",
       "      <td>57</td>\n",
       "      <td>0</td>\n",
       "      <td>6.000000</td>\n",
       "      <td>25</td>\n",
       "      <td>8.276473</td>\n",
       "    </tr>\n",
       "    <tr>\n",
       "      <th>2</th>\n",
       "      <td>2017090700</td>\n",
       "      <td>20170907000189</td>\n",
       "      <td>71.34</td>\n",
       "      <td>34.19</td>\n",
       "      <td>6.0</td>\n",
       "      <td>2.42</td>\n",
       "      <td>46.622222</td>\n",
       "      <td>35</td>\n",
       "      <td>1</td>\n",
       "      <td>4.000000</td>\n",
       "      <td>11</td>\n",
       "      <td>3.082207</td>\n",
       "    </tr>\n",
       "    <tr>\n",
       "      <th>3</th>\n",
       "      <td>2017090700</td>\n",
       "      <td>20170907000345</td>\n",
       "      <td>104.47</td>\n",
       "      <td>27.94</td>\n",
       "      <td>4.6</td>\n",
       "      <td>3.20</td>\n",
       "      <td>93.955556</td>\n",
       "      <td>2</td>\n",
       "      <td>-2</td>\n",
       "      <td>0.111111</td>\n",
       "      <td>1</td>\n",
       "      <td>1.269296</td>\n",
       "    </tr>\n",
       "    <tr>\n",
       "      <th>4</th>\n",
       "      <td>2017090700</td>\n",
       "      <td>20170907000395</td>\n",
       "      <td>29.99</td>\n",
       "      <td>27.12</td>\n",
       "      <td>4.4</td>\n",
       "      <td>2.53</td>\n",
       "      <td>24.533333</td>\n",
       "      <td>75</td>\n",
       "      <td>-3</td>\n",
       "      <td>4.888889</td>\n",
       "      <td>12</td>\n",
       "      <td>4.935698</td>\n",
       "    </tr>\n",
       "  </tbody>\n",
       "</table>\n",
       "</div>"
      ],
      "text/plain": [
       "       GameId          PlayId   X_std  Y_std    S     A  Dir_scaled  \\\n",
       "0  2017090700  20170907000118   41.25  22.77  3.8  3.35   73.044444   \n",
       "1  2017090700  20170907000139   48.93  26.14  3.4  2.41   53.111111   \n",
       "2  2017090700  20170907000189   71.34  34.19  6.0  2.42   46.622222   \n",
       "3  2017090700  20170907000345  104.47  27.94  4.6  3.20   93.955556   \n",
       "4  2017090700  20170907000395   29.99  27.12  4.4  2.53   24.533333   \n",
       "\n",
       "   YardsToTouchdown  min_similar_yards  avg_similar_yards  max_similar_yards  \\\n",
       "0                65                  1           3.555556                  6   \n",
       "1                57                  0           6.000000                 25   \n",
       "2                35                  1           4.000000                 11   \n",
       "3                 2                 -2           0.111111                  1   \n",
       "4                75                 -3           4.888889                 12   \n",
       "\n",
       "   std_similar_yards  \n",
       "0           1.740051  \n",
       "1           8.276473  \n",
       "2           3.082207  \n",
       "3           1.269296  \n",
       "4           4.935698  "
      ]
     },
     "execution_count": 19,
     "metadata": {},
     "output_type": "execute_result"
    }
   ],
   "source": [
    "rusher_X.head()"
   ]
  },
  {
   "cell_type": "code",
   "execution_count": 20,
   "id": "73b2102a-cbf6-49b9-8fdf-b94a398427d9",
   "metadata": {},
   "outputs": [],
   "source": [
    "rusher_X.to_csv('../data/rusher_features.csv', header=True, index=False)"
   ]
  },
  {
   "cell_type": "markdown",
   "id": "a9a5a6b8-24ab-45d2-a81f-cdf6b60fb16c",
   "metadata": {},
   "source": [
    "#### Let's now consider defensive distances from rusher"
   ]
  },
  {
   "cell_type": "code",
   "execution_count": 21,
   "id": "c3076588-a292-475d-b0c9-60c9e08c322b",
   "metadata": {},
   "outputs": [
    {
     "name": "stdout",
     "output_type": "stream",
     "text": [
      "Wall time: 9min 22s\n"
     ]
    }
   ],
   "source": [
    "%%time\n",
    "defensive_distances = np.zeros((rusher_X.shape[0], 11))\n",
    "defensive_speeds = np.zeros((rusher_X.shape[0], 11))\n",
    "defensive_accel = np.zeros((rusher_X.shape[0], 11))\n",
    "defensive_dir = np.zeros((rusher_X.shape[0], 11))\n",
    "for indx, row in rusher_X[['GameId','PlayId','X_std','Y_std','S','A','Dir_scaled']].iterrows():\n",
    "    rusherX = row['X_std']\n",
    "    rusherY = row['Y_std']\n",
    "    rusherS = row['S']\n",
    "    rusherA = row['A']\n",
    "    rusherDir = row['Dir_scaled']\n",
    "\n",
    "    # filter down to defensive players\n",
    "    mask = (frames['GameId'] == row['GameId']) & \\\n",
    "           (frames['PlayId'] == row['PlayId']) & \\\n",
    "           (frames['OffensivePlayer'] == 0) & \\\n",
    "           (frames['IsRusher'] == 0)\n",
    "    defensive_players = frames[mask][['X_std','Y_std','S','A','Dir_scaled']]\n",
    "\n",
    "    # calculate euclidean distance between rusher and each defensive player\n",
    "    rusher_point = np.array([rusherX, rusherY])\n",
    "    defensive_points = defensive_players[['X_std','Y_std']].values\n",
    "    distances = np.linalg.norm(rusher_point - defensive_points, axis=1)\n",
    "    \n",
    "    # difference in speed between rusher and defensive players\n",
    "    speeds = rusherS - defensive_players[['S']].values\n",
    "    \n",
    "    # difference in acceleration between rusher and defensive players\n",
    "    accels = rusherA - defensive_players[['A']].values\n",
    "    \n",
    "    # difference in direction between rusher and defensive players\n",
    "    dirs = rusherDir + defensive_players[['Dir_scaled']].values\n",
    "    \n",
    "    # zip features since we will sort based on distance\n",
    "    zipped = zip(distances, speeds, accels, dirs)\n",
    "\n",
    "    # sort the distances from closest to furthest\n",
    "    sorted_feats_by_distances = sorted(zipped, key=lambda x: x[0])\n",
    "\n",
    "    # append to array\n",
    "    defensive_distances[indx] = [x[0] for x in sorted_feats_by_distances]\n",
    "    defensive_speeds[indx] = [x[1] for x in sorted_feats_by_distances]\n",
    "    defensive_accel[indx] = [x[2] for x in sorted_feats_by_distances]\n",
    "    defensive_dir[indx] = [x[3] for x in sorted_feats_by_distances]"
   ]
  },
  {
   "cell_type": "code",
   "execution_count": 22,
   "id": "7b574235-0d1b-45ea-b57e-caeb9d57b43b",
   "metadata": {},
   "outputs": [
    {
     "data": {
      "text/plain": [
       "(31007, 11, 4)"
      ]
     },
     "execution_count": 22,
     "metadata": {},
     "output_type": "execute_result"
    }
   ],
   "source": [
    "feats = np.stack([defensive_distances, defensive_speeds, defensive_accel, defensive_dir], axis=2)\n",
    "feats.shape"
   ]
  },
  {
   "cell_type": "code",
   "execution_count": 23,
   "id": "b8b5a1a9-2f27-47e3-afda-57148f54b5e6",
   "metadata": {},
   "outputs": [],
   "source": [
    "np.save(file='../data/rusher_vs_defensive_features', arr=feats)"
   ]
  },
  {
   "cell_type": "markdown",
   "id": "e786bf9c-22b1-4e5c-adb4-8c42fe4b4a33",
   "metadata": {},
   "source": [
    "# Extract Play's Yard Outcome"
   ]
  },
  {
   "cell_type": "code",
   "execution_count": 24,
   "id": "94ecd018-7c81-472b-929e-712b73fddafc",
   "metadata": {},
   "outputs": [],
   "source": [
    "play_outcomes = frames[['GameId','PlayId','Yards']].drop_duplicates()"
   ]
  },
  {
   "cell_type": "code",
   "execution_count": 25,
   "id": "1ea91227-4138-4738-9cd8-852b3d66b0c2",
   "metadata": {},
   "outputs": [],
   "source": [
    "play_outcomes.to_csv('../data/yard_outcomes.csv', header=True, index=False)"
   ]
  },
  {
   "cell_type": "code",
   "execution_count": null,
   "id": "82b680ec",
   "metadata": {},
   "outputs": [],
   "source": []
  }
 ],
 "metadata": {
  "kernelspec": {
   "display_name": "Python 3",
   "language": "python",
   "name": "python3"
  },
  "language_info": {
   "codemirror_mode": {
    "name": "ipython",
    "version": 3
   },
   "file_extension": ".py",
   "mimetype": "text/x-python",
   "name": "python",
   "nbconvert_exporter": "python",
   "pygments_lexer": "ipython3",
   "version": "3.8.8"
  }
 },
 "nbformat": 4,
 "nbformat_minor": 5
}
